{
 "cells": [
  {
   "cell_type": "markdown",
   "id": "adeb6073",
   "metadata": {},
   "source": [
    "# 선형회귀 데이터 로딩(보스턴 주택가격 데이터)\n"
   ]
  },
  {
   "cell_type": "code",
   "execution_count": 1,
   "id": "08b048e8",
   "metadata": {},
   "outputs": [],
   "source": [
    "from sklearn.datasets import load_boston\n",
    "import numpy as np\n",
    "import pandas as pd\n",
    "import matplotlib.pyplot as plt"
   ]
  },
  {
   "cell_type": "code",
   "execution_count": 2,
   "id": "b6c69578",
   "metadata": {},
   "outputs": [
    {
     "name": "stderr",
     "output_type": "stream",
     "text": [
      "C:\\Users\\AI\\Anaconda3\\lib\\site-packages\\sklearn\\utils\\deprecation.py:87: FutureWarning: Function load_boston is deprecated; `load_boston` is deprecated in 1.0 and will be removed in 1.2.\n",
      "\n",
      "    The Boston housing prices dataset has an ethical problem. You can refer to\n",
      "    the documentation of this function for further details.\n",
      "\n",
      "    The scikit-learn maintainers therefore strongly discourage the use of this\n",
      "    dataset unless the purpose of the code is to study and educate about\n",
      "    ethical issues in data science and machine learning.\n",
      "\n",
      "    In this special case, you can fetch the dataset from the original\n",
      "    source::\n",
      "\n",
      "        import pandas as pd\n",
      "        import numpy as np\n",
      "\n",
      "\n",
      "        data_url = \"http://lib.stat.cmu.edu/datasets/boston\"\n",
      "        raw_df = pd.read_csv(data_url, sep=\"\\s+\", skiprows=22, header=None)\n",
      "        data = np.hstack([raw_df.values[::2, :], raw_df.values[1::2, :2]])\n",
      "        target = raw_df.values[1::2, 2]\n",
      "\n",
      "    Alternative datasets include the California housing dataset (i.e.\n",
      "    :func:`~sklearn.datasets.fetch_california_housing`) and the Ames housing\n",
      "    dataset. You can load the datasets as follows::\n",
      "\n",
      "        from sklearn.datasets import fetch_california_housing\n",
      "        housing = fetch_california_housing()\n",
      "\n",
      "    for the California housing dataset and::\n",
      "\n",
      "        from sklearn.datasets import fetch_openml\n",
      "        housing = fetch_openml(name=\"house_prices\", as_frame=True)\n",
      "\n",
      "    for the Ames housing dataset.\n",
      "    \n",
      "  warnings.warn(msg, category=FutureWarning)\n"
     ]
    }
   ],
   "source": [
    "data = load_boston()"
   ]
  },
  {
   "cell_type": "code",
   "execution_count": 3,
   "id": "0d4c3de8",
   "metadata": {},
   "outputs": [
    {
     "data": {
      "text/plain": [
       "dict_keys(['data', 'target', 'feature_names', 'DESCR', 'filename', 'data_module'])"
      ]
     },
     "execution_count": 3,
     "metadata": {},
     "output_type": "execute_result"
    }
   ],
   "source": [
    "data.keys()"
   ]
  },
  {
   "cell_type": "code",
   "execution_count": 4,
   "id": "a1ea7f1c",
   "metadata": {},
   "outputs": [
    {
     "name": "stdout",
     "output_type": "stream",
     "text": [
      ".. _boston_dataset:\n",
      "\n",
      "Boston house prices dataset\n",
      "---------------------------\n",
      "\n",
      "**Data Set Characteristics:**  \n",
      "\n",
      "    :Number of Instances: 506 \n",
      "\n",
      "    :Number of Attributes: 13 numeric/categorical predictive. Median Value (attribute 14) is usually the target.\n",
      "\n",
      "    :Attribute Information (in order):\n",
      "        - CRIM     per capita crime rate by town\n",
      "        - ZN       proportion of residential land zoned for lots over 25,000 sq.ft.\n",
      "        - INDUS    proportion of non-retail business acres per town\n",
      "        - CHAS     Charles River dummy variable (= 1 if tract bounds river; 0 otherwise)\n",
      "        - NOX      nitric oxides concentration (parts per 10 million)\n",
      "        - RM       average number of rooms per dwelling\n",
      "        - AGE      proportion of owner-occupied units built prior to 1940\n",
      "        - DIS      weighted distances to five Boston employment centres\n",
      "        - RAD      index of accessibility to radial highways\n",
      "        - TAX      full-value property-tax rate per $10,000\n",
      "        - PTRATIO  pupil-teacher ratio by town\n",
      "        - B        1000(Bk - 0.63)^2 where Bk is the proportion of black people by town\n",
      "        - LSTAT    % lower status of the population\n",
      "        - MEDV     Median value of owner-occupied homes in $1000's\n",
      "\n",
      "    :Missing Attribute Values: None\n",
      "\n",
      "    :Creator: Harrison, D. and Rubinfeld, D.L.\n",
      "\n",
      "This is a copy of UCI ML housing dataset.\n",
      "https://archive.ics.uci.edu/ml/machine-learning-databases/housing/\n",
      "\n",
      "\n",
      "This dataset was taken from the StatLib library which is maintained at Carnegie Mellon University.\n",
      "\n",
      "The Boston house-price data of Harrison, D. and Rubinfeld, D.L. 'Hedonic\n",
      "prices and the demand for clean air', J. Environ. Economics & Management,\n",
      "vol.5, 81-102, 1978.   Used in Belsley, Kuh & Welsch, 'Regression diagnostics\n",
      "...', Wiley, 1980.   N.B. Various transformations are used in the table on\n",
      "pages 244-261 of the latter.\n",
      "\n",
      "The Boston house-price data has been used in many machine learning papers that address regression\n",
      "problems.   \n",
      "     \n",
      ".. topic:: References\n",
      "\n",
      "   - Belsley, Kuh & Welsch, 'Regression diagnostics: Identifying Influential Data and Sources of Collinearity', Wiley, 1980. 244-261.\n",
      "   - Quinlan,R. (1993). Combining Instance-Based and Model-Based Learning. In Proceedings on the Tenth International Conference of Machine Learning, 236-243, University of Massachusetts, Amherst. Morgan Kaufmann.\n",
      "\n"
     ]
    }
   ],
   "source": [
    "print(data.DESCR)"
   ]
  },
  {
   "cell_type": "markdown",
   "id": "3cb0d954",
   "metadata": {},
   "source": [
    "# 모델학습"
   ]
  },
  {
   "cell_type": "code",
   "execution_count": 5,
   "id": "c48ac8db",
   "metadata": {},
   "outputs": [],
   "source": [
    "X = data.data\n",
    "y = data.target"
   ]
  },
  {
   "cell_type": "code",
   "execution_count": 6,
   "id": "efb97867",
   "metadata": {},
   "outputs": [],
   "source": [
    "from sklearn.model_selection import train_test_split"
   ]
  },
  {
   "cell_type": "code",
   "execution_count": 7,
   "id": "705e2423",
   "metadata": {},
   "outputs": [],
   "source": [
    "X_train,X_test,y_train,y_test = train_test_split(X,y,test_size=0.2,\n",
    "                                                random_state=722)"
   ]
  },
  {
   "cell_type": "code",
   "execution_count": 8,
   "id": "054110e2",
   "metadata": {},
   "outputs": [
    {
     "data": {
      "text/plain": [
       "((404, 13), (404,))"
      ]
     },
     "execution_count": 8,
     "metadata": {},
     "output_type": "execute_result"
    }
   ],
   "source": [
    "X_train.shape, y_train.shape"
   ]
  },
  {
   "cell_type": "code",
   "execution_count": 9,
   "id": "88279775",
   "metadata": {},
   "outputs": [
    {
     "data": {
      "text/plain": [
       "((102, 13), (102,))"
      ]
     },
     "execution_count": 9,
     "metadata": {},
     "output_type": "execute_result"
    }
   ],
   "source": [
    "X_test.shape, y_test.shape"
   ]
  },
  {
   "cell_type": "code",
   "execution_count": 10,
   "id": "7ec229d6",
   "metadata": {},
   "outputs": [],
   "source": [
    "# 선형모델\n",
    "from sklearn.linear_model import LinearRegression"
   ]
  },
  {
   "cell_type": "code",
   "execution_count": 11,
   "id": "b185f7de",
   "metadata": {},
   "outputs": [
    {
     "data": {
      "text/plain": [
       "LinearRegression()"
      ]
     },
     "execution_count": 11,
     "metadata": {},
     "output_type": "execute_result"
    }
   ],
   "source": [
    "# 모델학습\n",
    "model = LinearRegression()\n",
    "model.fit(X_train,y_train)"
   ]
  },
  {
   "cell_type": "code",
   "execution_count": 12,
   "id": "abb6b1c6",
   "metadata": {},
   "outputs": [
    {
     "name": "stdout",
     "output_type": "stream",
     "text": [
      "가중치 : [-1.18313515e-01  5.20521053e-02  1.76355388e-02  4.11554414e+00\n",
      " -2.01952839e+01  2.93408084e+00  1.01479948e-02 -1.56497280e+00\n",
      "  3.16556945e-01 -1.25687293e-02 -1.01868234e+00  6.75071633e-03\n",
      " -5.73138231e-01]\n",
      "절편 : 45.72482696295275\n"
     ]
    }
   ],
   "source": [
    "# 학습된 가중치와 절편 확인\n",
    "print(\"가중치 :\",model.coef_)\n",
    "print(\"절편 :\",model.intercept_)"
   ]
  },
  {
   "cell_type": "code",
   "execution_count": 13,
   "id": "db1811a9",
   "metadata": {},
   "outputs": [
    {
     "data": {
      "text/plain": [
       "0.7454536557439619"
      ]
     },
     "execution_count": 13,
     "metadata": {},
     "output_type": "execute_result"
    }
   ],
   "source": [
    "# 모델평가\n",
    "model.score(X_test,y_test)"
   ]
  },
  {
   "cell_type": "code",
   "execution_count": 14,
   "id": "7cc1dd35",
   "metadata": {},
   "outputs": [],
   "source": [
    "# 다른 평가지표 사용\n",
    "from sklearn.metrics import mean_absolute_error #MAE\n",
    "from sklearn.metrics import mean_squared_error #MSE"
   ]
  },
  {
   "cell_type": "code",
   "execution_count": 15,
   "id": "77ee6399",
   "metadata": {},
   "outputs": [
    {
     "name": "stdout",
     "output_type": "stream",
     "text": [
      "MAE : 3.028568457448007\n",
      "MSE : 17.925235768942024\n"
     ]
    }
   ],
   "source": [
    "pre = model.predict(X_test) # 예측값 생성\n",
    "print(\"MAE :\", mean_absolute_error(y_test,pre))\n",
    "print(\"MSE :\", mean_squared_error(y_test,pre))"
   ]
  },
  {
   "cell_type": "markdown",
   "id": "9ca55a3e",
   "metadata": {},
   "source": [
    "- 평균 제곱 오차 공식\n",
    "    - 오차의 제곱을 평균내주는 것\n",
    "    - 그 오차가 가장 적은 것이 가장 이상적인 함수\n",
    "    - "
   ]
  },
  {
   "cell_type": "markdown",
   "id": "7d50a348",
   "metadata": {},
   "source": [
    "## 선형모델의 학습 원리\n",
    "1. 선형모델은 최적의 가중치(w)와 절편(b)를 선택하기 위해 MSE(평균제곱오차)를 이용해 각 가설의 적합성을 판단한다.\n",
    "2. 최적의 가중치(w)와 절편 (b)를 만들기 위해서 2가지 방식을 활용한다.\n",
    "    - 해석적 방법(Ordinary Least Squares) -> LinearRegression Class로 구현됨    전통적 방식\n",
    "    - 경사 하강법(Gradient Descent Algorithm) -> SGDRegresso Class로 구현됨     오늘날 방식\n",
    "        - 초기 가중치로부터 기울기 값을 조금씩 수정해서 찾아가는 방식\n",
    "        - 기울기가 낮아지는 방향으로 계속 업데이트하는 공식\n",
    "        "
   ]
  },
  {
   "cell_type": "markdown",
   "id": "40ab4b02",
   "metadata": {},
   "source": [
    "### 가중치 변화에 따른 MSE 변화 그래프를 그려보자"
   ]
  },
  {
   "cell_type": "code",
   "execution_count": 16,
   "id": "59f6af1f",
   "metadata": {},
   "outputs": [],
   "source": [
    "# 성적데이터 생성\n",
    "data = pd.DataFrame([[2,20], [4,40], [8,80], [9,90]],\n",
    "                   index=['해도', '예호', '형', '병관'],\n",
    "                   columns=['공부시간','성적점수'])"
   ]
  },
  {
   "cell_type": "code",
   "execution_count": 17,
   "id": "6f6a0f33",
   "metadata": {},
   "outputs": [
    {
     "data": {
      "text/html": [
       "<div>\n",
       "<style scoped>\n",
       "    .dataframe tbody tr th:only-of-type {\n",
       "        vertical-align: middle;\n",
       "    }\n",
       "\n",
       "    .dataframe tbody tr th {\n",
       "        vertical-align: top;\n",
       "    }\n",
       "\n",
       "    .dataframe thead th {\n",
       "        text-align: right;\n",
       "    }\n",
       "</style>\n",
       "<table border=\"1\" class=\"dataframe\">\n",
       "  <thead>\n",
       "    <tr style=\"text-align: right;\">\n",
       "      <th></th>\n",
       "      <th>공부시간</th>\n",
       "      <th>성적점수</th>\n",
       "    </tr>\n",
       "  </thead>\n",
       "  <tbody>\n",
       "    <tr>\n",
       "      <th>해도</th>\n",
       "      <td>2</td>\n",
       "      <td>20</td>\n",
       "    </tr>\n",
       "    <tr>\n",
       "      <th>예호</th>\n",
       "      <td>4</td>\n",
       "      <td>40</td>\n",
       "    </tr>\n",
       "    <tr>\n",
       "      <th>형</th>\n",
       "      <td>8</td>\n",
       "      <td>80</td>\n",
       "    </tr>\n",
       "    <tr>\n",
       "      <th>병관</th>\n",
       "      <td>9</td>\n",
       "      <td>90</td>\n",
       "    </tr>\n",
       "  </tbody>\n",
       "</table>\n",
       "</div>"
      ],
      "text/plain": [
       "    공부시간  성적점수\n",
       "해도     2    20\n",
       "예호     4    40\n",
       "형      8    80\n",
       "병관     9    90"
      ]
     },
     "execution_count": 17,
     "metadata": {},
     "output_type": "execute_result"
    }
   ],
   "source": [
    "data"
   ]
  },
  {
   "cell_type": "markdown",
   "id": "ab6e2d4d",
   "metadata": {},
   "source": [
    "### MSE 함수 생성"
   ]
  },
  {
   "cell_type": "code",
   "execution_count": 18,
   "id": "24238152",
   "metadata": {},
   "outputs": [],
   "source": [
    "#문제, 정답, 가중치를 매개변수로 받는다\n",
    "def MSE(X,y,w):\n",
    "    #예측값 생성\n",
    "    y_pre = (w*X)+0\n",
    "    # 오차\n",
    "    error = y-y_pre\n",
    "    return (error**2).mean() #평균제곱오차"
   ]
  },
  {
   "cell_type": "code",
   "execution_count": 19,
   "id": "cdfdb704",
   "metadata": {},
   "outputs": [
    {
     "data": {
      "text/plain": [
       "41.25"
      ]
     },
     "execution_count": 19,
     "metadata": {},
     "output_type": "execute_result"
    }
   ],
   "source": [
    "MSE(data['공부시간'],data['성적점수'], 9)    #결과값이 0이 나와야함."
   ]
  },
  {
   "cell_type": "markdown",
   "id": "5e425b40",
   "metadata": {},
   "source": [
    "### 그래프 그리기"
   ]
  },
  {
   "cell_type": "code",
   "execution_count": 20,
   "id": "fbba45fa",
   "metadata": {},
   "outputs": [
    {
     "data": {
      "text/plain": [
       "array([ 0.        ,  0.40816327,  0.81632653,  1.2244898 ,  1.63265306,\n",
       "        2.04081633,  2.44897959,  2.85714286,  3.26530612,  3.67346939,\n",
       "        4.08163265,  4.48979592,  4.89795918,  5.30612245,  5.71428571,\n",
       "        6.12244898,  6.53061224,  6.93877551,  7.34693878,  7.75510204,\n",
       "        8.16326531,  8.57142857,  8.97959184,  9.3877551 ,  9.79591837,\n",
       "       10.20408163, 10.6122449 , 11.02040816, 11.42857143, 11.83673469,\n",
       "       12.24489796, 12.65306122, 13.06122449, 13.46938776, 13.87755102,\n",
       "       14.28571429, 14.69387755, 15.10204082, 15.51020408, 15.91836735,\n",
       "       16.32653061, 16.73469388, 17.14285714, 17.55102041, 17.95918367,\n",
       "       18.36734694, 18.7755102 , 19.18367347, 19.59183673, 20.        ])"
      ]
     },
     "execution_count": 20,
     "metadata": {},
     "output_type": "execute_result"
    }
   ],
   "source": [
    "# 변화하는 가중치(w) 생성\n",
    "weights = np.linspace(0,20) #linsapce 생성하는 숫자들 간격 일정하게 만들어줌 (디폴트는 num = 50 50개로 쪼개줌)\n",
    "weights"
   ]
  },
  {
   "cell_type": "code",
   "execution_count": 21,
   "id": "5593e495",
   "metadata": {},
   "outputs": [
    {
     "data": {
      "text/plain": [
       "[4125.0,\n",
       " 3795.1374427321953,\n",
       " 3479.019158683882,\n",
       " 3176.6451478550603,\n",
       " 2888.015410245731,\n",
       " 2613.1299458558933,\n",
       " 2351.9887546855475,\n",
       " 2104.5918367346935,\n",
       " 1870.939192003332,\n",
       " 1651.0308204914622,\n",
       " 1444.8667221990836,\n",
       " 1252.4468971261972,\n",
       " 1073.771345272803,\n",
       " 908.8400666389006,\n",
       " 757.6530612244896,\n",
       " 620.2103290295709,\n",
       " 496.5118700541441,\n",
       " 386.5576842982092,\n",
       " 290.3477717617659,\n",
       " 207.88213244481454,\n",
       " 139.1607663473552,\n",
       " 84.1836734693878,\n",
       " 42.950853810912015,\n",
       " 15.46230737192834,\n",
       " 1.718034152436478,\n",
       " 1.718034152436478,\n",
       " 15.46230737192834,\n",
       " 42.95085381091215,\n",
       " 84.1836734693878,\n",
       " 139.1607663473552,\n",
       " 207.88213244481489,\n",
       " 290.347771761766,\n",
       " 386.5576842982092,\n",
       " 496.5118700541442,\n",
       " 620.2103290295709,\n",
       " 757.6530612244901,\n",
       " 908.8400666389006,\n",
       " 1073.7713452728026,\n",
       " 1252.4468971261979,\n",
       " 1444.8667221990838,\n",
       " 1651.0308204914627,\n",
       " 1870.939192003332,\n",
       " 2104.5918367346935,\n",
       " 2351.988754685547,\n",
       " 2613.129945855895,\n",
       " 2888.015410245732,\n",
       " 3176.6451478550607,\n",
       " 3479.019158683883,\n",
       " 3795.1374427321957,\n",
       " 4125.0]"
      ]
     },
     "execution_count": 21,
     "metadata": {},
     "output_type": "execute_result"
    }
   ],
   "source": [
    "mse_list = []\n",
    "for w in weights :\n",
    "    mse_list.append(MSE(data['공부시간'], data['성적점수'], w))\n",
    "    \n",
    "mse_list"
   ]
  },
  {
   "cell_type": "code",
   "execution_count": 22,
   "id": "97c3664f",
   "metadata": {},
   "outputs": [
    {
     "data": {
      "image/png": "[encoded data removed]",
      "text/plain": [
       "<Figure size 504x360 with 1 Axes>"
      ]
     },
     "metadata": {
      "needs_background": "light"
     },
     "output_type": "display_data"
    }
   ],
   "source": [
    "plt. figure(figsize=(7,5))\n",
    "plt.plot(mse_list, marker='*')\n",
    "plt.ylabel('MSE')\n",
    "plt.xlabel('W')\n",
    "plt.show()"
   ]
  },
  {
   "cell_type": "markdown",
   "id": "474db0a7",
   "metadata": {},
   "source": [
    "### 경사하강법으로 구현된 SGDRegressor를 사용해보자."
   ]
  },
  {
   "cell_type": "code",
   "execution_count": 23,
   "id": "5104dbb8",
   "metadata": {},
   "outputs": [],
   "source": [
    "from sklearn.linear_model import SGDRegressor"
   ]
  },
  {
   "cell_type": "code",
   "execution_count": 24,
   "id": "023767bc",
   "metadata": {},
   "outputs": [],
   "source": [
    "sgd_model = SGDRegressor()"
   ]
  },
  {
   "cell_type": "code",
   "execution_count": 25,
   "id": "922a4398",
   "metadata": {},
   "outputs": [
    {
     "data": {
      "text/plain": [
       "SGDRegressor()"
      ]
     },
     "execution_count": 25,
     "metadata": {},
     "output_type": "execute_result"
    }
   ],
   "source": [
    "sgd_model.fit(data[['공부시간']], data['성적점수'])   \n",
    "#대괄호 두번은 2차원으로 나오라고 치는 것 일반적으로 모델은 특성이 여러개 들어가니까"
   ]
  },
  {
   "cell_type": "code",
   "execution_count": 26,
   "id": "0ecbf3c9",
   "metadata": {},
   "outputs": [
    {
     "name": "stdout",
     "output_type": "stream",
     "text": [
      "가중치 : [9.84149013]\n",
      "절편 : [1.17362187]\n"
     ]
    }
   ],
   "source": [
    "print(\"가중치 :\", sgd_model.coef_)\n",
    "print(\"절편 :\", sgd_model.intercept_)"
   ]
  },
  {
   "cell_type": "code",
   "execution_count": 27,
   "id": "0a50284e",
   "metadata": {},
   "outputs": [
    {
     "name": "stderr",
     "output_type": "stream",
     "text": [
      "C:\\Users\\AI\\Anaconda3\\lib\\site-packages\\sklearn\\base.py:450: UserWarning: X does not have valid feature names, but SGDRegressor was fitted with feature names\n",
      "  warnings.warn(\n"
     ]
    },
    {
     "data": {
      "text/plain": [
       "array([70.06405279, 50.38107253])"
      ]
     },
     "execution_count": 27,
     "metadata": {},
     "output_type": "execute_result"
    }
   ],
   "source": [
    "sgd_model.predict([[7],[5]])"
   ]
  },
  {
   "cell_type": "markdown",
   "id": "110772a0",
   "metadata": {},
   "source": [
    "- max_iter -> 최대 미분 수\n",
    "- eta0 -> learning rate 학습률 (너무커도 안되고 너무 작어도 안됨)"
   ]
  },
  {
   "cell_type": "code",
   "execution_count": 28,
   "id": "2ad784cc",
   "metadata": {},
   "outputs": [],
   "source": [
    "sgd_model = SGDRegressor(eta0=0.1,   #학습률\n",
    "                         max_iter=6000,   #반복횟수(가중치 업데이트 횟수)\n",
    "                         epsilon=0.001,   #최소 오차 기준값\n",
    "                         n_iter_no_change=100,   #업데이트시 오차가 변경되지 않는걸 허용하는 횟수\n",
    "                         verbose=1)   #과정을 살펴볼 수 있게 해줌"
   ]
  },
  {
   "cell_type": "code",
   "execution_count": 29,
   "id": "92717f4c",
   "metadata": {},
   "outputs": [
    {
     "name": "stdout",
     "output_type": "stream",
     "text": [
      "-- Epoch 1\n",
      "Norm: 93.57, NNZs: 1, Bias: -12.348092, T: 4, Avg. loss: 19387.471819\n",
      "Total training time: 0.00 seconds.\n",
      "-- Epoch 2\n",
      "Norm: 42.61, NNZs: 1, Bias: 21.211917, T: 8, Avg. loss: 356159.674472\n",
      "Total training time: 0.00 seconds.\n",
      "-- Epoch 3\n",
      "Norm: 43.04, NNZs: 1, Bias: 29.771984, T: 12, Avg. loss: 5967.473919\n",
      "Total training time: 0.00 seconds.\n",
      "-- Epoch 4\n",
      "Norm: 23.60, NNZs: 1, Bias: 22.122684, T: 16, Avg. loss: 52996.058745\n",
      "Total training time: 0.00 seconds.\n",
      "-- Epoch 5\n",
      "Norm: 13.98, NNZs: 1, Bias: 10.381454, T: 20, Avg. loss: 30844.951908\n",
      "Total training time: 0.00 seconds.\n",
      "-- Epoch 6\n",
      "Norm: 20.96, NNZs: 1, Bias: 12.989402, T: 24, Avg. loss: 2247.559726\n",
      "Total training time: 0.00 seconds.\n",
      "-- Epoch 7\n",
      "Norm: 18.77, NNZs: 1, Bias: 10.631185, T: 28, Avg. loss: 15914.466109\n",
      "Total training time: 0.00 seconds.\n",
      "-- Epoch 8\n",
      "Norm: 15.96, NNZs: 1, Bias: 2.010146, T: 32, Avg. loss: 20330.447686\n",
      "Total training time: 0.00 seconds.\n",
      "-- Epoch 9\n",
      "Norm: 18.13, NNZs: 1, Bias: 5.559069, T: 36, Avg. loss: 2967.101488\n",
      "Total training time: 0.00 seconds.\n",
      "-- Epoch 10\n",
      "Norm: 16.73, NNZs: 1, Bias: 4.418710, T: 40, Avg. loss: 12763.904713\n",
      "Total training time: 0.00 seconds.\n",
      "-- Epoch 11\n",
      "Norm: 14.25, NNZs: 1, Bias: -2.449702, T: 44, Avg. loss: 16642.943319\n",
      "Total training time: 0.00 seconds.\n",
      "-- Epoch 12\n",
      "Norm: 13.28, NNZs: 1, Bias: 1.184234, T: 48, Avg. loss: 2814.284080\n",
      "Total training time: 0.00 seconds.\n",
      "-- Epoch 13\n",
      "Norm: 11.14, NNZs: 1, Bias: 0.775060, T: 52, Avg. loss: 8504.553233\n",
      "Total training time: 0.00 seconds.\n",
      "-- Epoch 14\n",
      "Norm: 8.27, NNZs: 1, Bias: -3.913102, T: 56, Avg. loss: 9986.418681\n",
      "Total training time: 0.00 seconds.\n",
      "-- Epoch 15\n",
      "Norm: 5.82, NNZs: 1, Bias: -1.016645, T: 60, Avg. loss: 1689.603843\n",
      "Total training time: 0.00 seconds.\n",
      "-- Epoch 16\n",
      "Norm: 3.48, NNZs: 1, Bias: -1.024218, T: 64, Avg. loss: 3834.908978\n",
      "Total training time: 0.00 seconds.\n",
      "-- Epoch 17\n",
      "Norm: 0.97, NNZs: 1, Bias: -3.629737, T: 68, Avg. loss: 3945.993942\n",
      "Total training time: 0.00 seconds.\n",
      "-- Epoch 18\n",
      "Norm: 1.42, NNZs: 1, Bias: -1.796190, T: 72, Avg. loss: 635.742190\n",
      "Total training time: 0.00 seconds.\n",
      "-- Epoch 19\n",
      "Norm: 3.14, NNZs: 1, Bias: -1.671089, T: 76, Avg. loss: 1121.126393\n",
      "Total training time: 0.00 seconds.\n",
      "-- Epoch 20\n",
      "Norm: 4.74, NNZs: 1, Bias: -2.836046, T: 80, Avg. loss: 1011.648311\n",
      "Total training time: 0.00 seconds.\n",
      "-- Epoch 21\n",
      "Norm: 6.34, NNZs: 1, Bias: -1.886387, T: 84, Avg. loss: 153.864954\n",
      "Total training time: 0.00 seconds.\n",
      "-- Epoch 22\n",
      "Norm: 7.24, NNZs: 1, Bias: -1.767916, T: 88, Avg. loss: 213.295673\n",
      "Total training time: 0.00 seconds.\n",
      "-- Epoch 23\n",
      "Norm: 7.96, NNZs: 1, Bias: -2.184578, T: 92, Avg. loss: 171.887122\n",
      "Total training time: 0.00 seconds.\n",
      "-- Epoch 24\n",
      "Norm: 8.84, NNZs: 1, Bias: -1.756677, T: 96, Avg. loss: 25.607177\n",
      "Total training time: 0.00 seconds.\n",
      "-- Epoch 25\n",
      "Norm: 9.15, NNZs: 1, Bias: -1.676582, T: 100, Avg. loss: 27.376323\n",
      "Total training time: 0.01 seconds.\n",
      "-- Epoch 26\n",
      "Norm: 9.36, NNZs: 1, Bias: -1.791928, T: 104, Avg. loss: 20.756642\n",
      "Total training time: 0.01 seconds.\n",
      "-- Epoch 27\n",
      "Norm: 9.81, NNZs: 1, Bias: -1.600897, T: 108, Avg. loss: 3.628497\n",
      "Total training time: 0.01 seconds.\n",
      "-- Epoch 28\n",
      "Norm: 9.84, NNZs: 1, Bias: -1.548211, T: 112, Avg. loss: 2.871136\n",
      "Total training time: 0.01 seconds.\n",
      "-- Epoch 29\n",
      "Norm: 9.84, NNZs: 1, Bias: -1.567052, T: 116, Avg. loss: 2.340058\n",
      "Total training time: 0.01 seconds.\n",
      "-- Epoch 30\n",
      "Norm: 10.10, NNZs: 1, Bias: -1.464869, T: 120, Avg. loss: 0.814182\n",
      "Total training time: 0.01 seconds.\n",
      "-- Epoch 31\n",
      "Norm: 10.04, NNZs: 1, Bias: -1.425792, T: 124, Avg. loss: 0.607184\n",
      "Total training time: 0.01 seconds.\n",
      "-- Epoch 32\n",
      "Norm: 9.98, NNZs: 1, Bias: -1.419431, T: 128, Avg. loss: 0.549189\n",
      "Total training time: 0.01 seconds.\n",
      "-- Epoch 33\n",
      "Norm: 10.16, NNZs: 1, Bias: -1.348587, T: 132, Avg. loss: 0.423075\n",
      "Total training time: 0.01 seconds.\n",
      "-- Epoch 34\n",
      "Norm: 10.09, NNZs: 1, Bias: -1.315940, T: 136, Avg. loss: 0.384290\n",
      "Total training time: 0.01 seconds.\n",
      "-- Epoch 35\n",
      "Norm: 10.02, NNZs: 1, Bias: -1.304073, T: 140, Avg. loss: 0.324959\n",
      "Total training time: 0.01 seconds.\n",
      "-- Epoch 36\n",
      "Norm: 10.17, NNZs: 1, Bias: -1.246442, T: 144, Avg. loss: 0.315462\n",
      "Total training time: 0.01 seconds.\n",
      "-- Epoch 37\n",
      "Norm: 10.09, NNZs: 1, Bias: -1.217509, T: 148, Avg. loss: 0.313449\n",
      "Total training time: 0.01 seconds.\n",
      "-- Epoch 38\n",
      "Norm: 10.03, NNZs: 1, Bias: -1.204678, T: 152, Avg. loss: 0.254726\n",
      "Total training time: 0.01 seconds.\n",
      "-- Epoch 39\n",
      "Norm: 10.16, NNZs: 1, Bias: -1.154967, T: 156, Avg. loss: 0.255868\n",
      "Total training time: 0.01 seconds.\n",
      "-- Epoch 40\n",
      "Norm: 10.09, NNZs: 1, Bias: -1.128778, T: 160, Avg. loss: 0.263489\n",
      "Total training time: 0.01 seconds.\n",
      "-- Epoch 41\n",
      "Norm: 10.04, NNZs: 1, Bias: -1.115967, T: 164, Avg. loss: 0.210829\n",
      "Total training time: 0.01 seconds.\n",
      "-- Epoch 42\n",
      "Norm: 10.14, NNZs: 1, Bias: -1.072286, T: 168, Avg. loss: 0.212230\n",
      "Total training time: 0.01 seconds.\n",
      "-- Epoch 43\n",
      "Norm: 10.08, NNZs: 1, Bias: -1.048392, T: 172, Avg. loss: 0.223360\n",
      "Total training time: 0.01 seconds.\n",
      "-- Epoch 44\n",
      "Norm: 10.04, NNZs: 1, Bias: -1.035865, T: 176, Avg. loss: 0.177070\n",
      "Total training time: 0.01 seconds.\n",
      "-- Epoch 45\n",
      "Norm: 10.13, NNZs: 1, Bias: -0.997183, T: 180, Avg. loss: 0.177764\n",
      "Total training time: 0.01 seconds.\n",
      "-- Epoch 46\n",
      "Norm: 10.08, NNZs: 1, Bias: -0.975291, T: 184, Avg. loss: 0.190345\n",
      "Total training time: 0.01 seconds.\n",
      "-- Epoch 47\n",
      "Norm: 10.05, NNZs: 1, Bias: -0.963156, T: 188, Avg. loss: 0.149823\n",
      "Total training time: 0.01 seconds.\n",
      "-- Epoch 48\n",
      "Norm: 10.12, NNZs: 1, Bias: -0.928723, T: 192, Avg. loss: 0.149911\n",
      "Total training time: 0.01 seconds.\n",
      "-- Epoch 49\n",
      "Norm: 10.08, NNZs: 1, Bias: -0.908601, T: 196, Avg. loss: 0.162916\n",
      "Total training time: 0.01 seconds.\n",
      "-- Epoch 50\n",
      "Norm: 10.05, NNZs: 1, Bias: -0.896919, T: 200, Avg. loss: 0.127485\n",
      "Total training time: 0.01 seconds.\n",
      "-- Epoch 51\n",
      "Norm: 10.11, NNZs: 1, Bias: -0.866136, T: 204, Avg. loss: 0.127142\n",
      "Total training time: 0.01 seconds.\n",
      "-- Epoch 52\n",
      "Norm: 10.07, NNZs: 1, Bias: -0.847589, T: 208, Avg. loss: 0.139974\n",
      "Total training time: 0.01 seconds.\n",
      "-- Epoch 53\n",
      "Norm: 10.05, NNZs: 1, Bias: -0.836391, T: 212, Avg. loss: 0.108999\n",
      "Total training time: 0.01 seconds.\n",
      "-- Epoch 54\n",
      "Norm: 10.10, NNZs: 1, Bias: -0.808767, T: 216, Avg. loss: 0.108366\n",
      "Total training time: 0.01 seconds.\n",
      "-- Epoch 55\n",
      "Norm: 10.07, NNZs: 1, Bias: -0.791631, T: 220, Avg. loss: 0.120676\n",
      "Total training time: 0.01 seconds.\n",
      "-- Epoch 56\n",
      "Norm: 10.05, NNZs: 1, Bias: -0.780933, T: 224, Avg. loss: 0.093589\n",
      "Total training time: 0.01 seconds.\n",
      "-- Epoch 57\n",
      "Norm: 10.10, NNZs: 1, Bias: -0.756058, T: 228, Avg. loss: 0.092770\n",
      "Total training time: 0.01 seconds.\n",
      "-- Epoch 58\n",
      "Norm: 10.07, NNZs: 1, Bias: -0.740191, T: 232, Avg. loss: 0.104361\n",
      "Total training time: 0.01 seconds.\n",
      "-- Epoch 59\n",
      "Norm: 10.05, NNZs: 1, Bias: -0.729996, T: 236, Avg. loss: 0.080661\n",
      "Total training time: 0.01 seconds.\n",
      "-- Epoch 60\n",
      "Norm: 10.09, NNZs: 1, Bias: -0.707528, T: 240, Avg. loss: 0.079730\n",
      "Total training time: 0.01 seconds.\n",
      "-- Epoch 61\n",
      "Norm: 10.06, NNZs: 1, Bias: -0.692808, T: 244, Avg. loss: 0.090507\n",
      "Total training time: 0.01 seconds.\n",
      "-- Epoch 62\n",
      "Norm: 10.05, NNZs: 1, Bias: -0.683111, T: 248, Avg. loss: 0.069755\n",
      "Total training time: 0.01 seconds.\n",
      "-- Epoch 63\n",
      "Norm: 10.08, NNZs: 1, Bias: -0.662759, T: 252, Avg. loss: 0.068766\n",
      "Total training time: 0.01 seconds.\n",
      "-- Epoch 64\n",
      "Norm: 10.06, NNZs: 1, Bias: -0.649080, T: 256, Avg. loss: 0.078694\n",
      "Total training time: 0.01 seconds.\n",
      "-- Epoch 65\n",
      "Norm: 10.04, NNZs: 1, Bias: -0.639869, T: 260, Avg. loss: 0.060509\n",
      "Total training time: 0.01 seconds.\n",
      "-- Epoch 66\n",
      "Norm: 10.08, NNZs: 1, Bias: -0.621387, T: 264, Avg. loss: 0.059500\n",
      "Total training time: 0.01 seconds.\n",
      "-- Epoch 67\n",
      "Norm: 10.06, NNZs: 1, Bias: -0.608656, T: 268, Avg. loss: 0.068586\n",
      "Total training time: 0.01 seconds.\n",
      "-- Epoch 68\n",
      "Norm: 10.04, NNZs: 1, Bias: -0.599916, T: 272, Avg. loss: 0.052636\n",
      "Total training time: 0.01 seconds.\n",
      "-- Epoch 69\n",
      "Norm: 10.07, NNZs: 1, Bias: -0.583093, T: 276, Avg. loss: 0.051633\n",
      "Total training time: 0.01 seconds.\n",
      "-- Epoch 70\n",
      "Norm: 10.05, NNZs: 1, Bias: -0.571227, T: 280, Avg. loss: 0.059908\n",
      "Total training time: 0.01 seconds.\n",
      "-- Epoch 71\n",
      "Norm: 10.04, NNZs: 1, Bias: -0.562942, T: 284, Avg. loss: 0.045905\n",
      "Total training time: 0.01 seconds.\n",
      "-- Epoch 72\n",
      "Norm: 10.07, NNZs: 1, Bias: -0.547594, T: 288, Avg. loss: 0.044927\n",
      "Total training time: 0.01 seconds.\n",
      "-- Epoch 73\n",
      "Norm: 10.05, NNZs: 1, Bias: -0.536520, T: 292, Avg. loss: 0.052434\n",
      "Total training time: 0.01 seconds.\n",
      "-- Epoch 74\n",
      "Norm: 10.04, NNZs: 1, Bias: -0.528671, T: 296, Avg. loss: 0.040130\n",
      "Total training time: 0.01 seconds.\n",
      "-- Epoch 75\n",
      "Norm: 10.06, NNZs: 1, Bias: -0.514641, T: 300, Avg. loss: 0.039188\n",
      "Total training time: 0.01 seconds.\n",
      "-- Epoch 76\n",
      "Norm: 10.05, NNZs: 1, Bias: -0.504294, T: 304, Avg. loss: 0.045979\n",
      "Total training time: 0.01 seconds.\n",
      "-- Epoch 77\n",
      "Norm: 10.04, NNZs: 1, Bias: -0.496862, T: 308, Avg. loss: 0.035158\n",
      "Total training time: 0.01 seconds.\n",
      "-- Epoch 78\n",
      "Norm: 10.06, NNZs: 1, Bias: -0.484013, T: 312, Avg. loss: 0.034261\n",
      "Total training time: 0.01 seconds.\n",
      "-- Epoch 79\n",
      "Norm: 10.05, NNZs: 1, Bias: -0.474334, T: 316, Avg. loss: 0.040391\n",
      "Total training time: 0.01 seconds.\n",
      "-- Epoch 80\n",
      "Norm: 10.04, NNZs: 1, Bias: -0.467299, T: 320, Avg. loss: 0.030865\n",
      "Total training time: 0.01 seconds.\n",
      "-- Epoch 81\n",
      "Norm: 10.06, NNZs: 1, Bias: -0.455511, T: 324, Avg. loss: 0.030016\n",
      "Total training time: 0.01 seconds.\n",
      "-- Epoch 82\n",
      "Norm: 10.04, NNZs: 1, Bias: -0.446448, T: 328, Avg. loss: 0.035541\n",
      "Total training time: 0.01 seconds.\n",
      "-- Epoch 83\n",
      "Norm: 10.04, NNZs: 1, Bias: -0.439791, T: 332, Avg. loss: 0.027147\n",
      "Total training time: 0.01 seconds.\n",
      "-- Epoch 84\n",
      "Norm: 10.05, NNZs: 1, Bias: -0.428957, T: 336, Avg. loss: 0.026349\n",
      "Total training time: 0.01 seconds.\n",
      "-- Epoch 85\n",
      "Norm: 10.04, NNZs: 1, Bias: -0.420464, T: 340, Avg. loss: 0.031322\n",
      "Total training time: 0.01 seconds.\n",
      "-- Epoch 86\n",
      "Norm: 10.03, NNZs: 1, Bias: -0.414165, T: 344, Avg. loss: 0.023920\n",
      "Total training time: 0.01 seconds.\n",
      "-- Epoch 87\n",
      "Norm: 10.05, NNZs: 1, Bias: -0.404194, T: 348, Avg. loss: 0.023173\n",
      "Total training time: 0.01 seconds.\n",
      "-- Epoch 88\n",
      "Norm: 10.04, NNZs: 1, Bias: -0.396227, T: 352, Avg. loss: 0.027644\n",
      "Total training time: 0.01 seconds.\n",
      "-- Epoch 89\n",
      "Norm: 10.03, NNZs: 1, Bias: -0.390268, T: 356, Avg. loss: 0.021111\n",
      "Total training time: 0.01 seconds.\n",
      "-- Epoch 90\n",
      "Norm: 10.05, NNZs: 1, Bias: -0.381077, T: 360, Avg. loss: 0.020415\n",
      "Total training time: 0.01 seconds.\n",
      "-- Epoch 91\n",
      "Norm: 10.04, NNZs: 1, Bias: -0.373597, T: 364, Avg. loss: 0.024432\n",
      "Total training time: 0.01 seconds.\n",
      "-- Epoch 92\n",
      "Norm: 10.03, NNZs: 1, Bias: -0.367961, T: 368, Avg. loss: 0.018661\n",
      "Total training time: 0.01 seconds.\n",
      "-- Epoch 93\n",
      "Norm: 10.04, NNZs: 1, Bias: -0.359478, T: 372, Avg. loss: 0.018014\n",
      "Total training time: 0.01 seconds.\n",
      "-- Epoch 94\n",
      "Norm: 10.04, NNZs: 1, Bias: -0.352450, T: 376, Avg. loss: 0.021622\n",
      "Total training time: 0.01 seconds.\n",
      "-- Epoch 95\n",
      "Norm: 10.03, NNZs: 1, Bias: -0.347118, T: 380, Avg. loss: 0.016519\n",
      "Total training time: 0.01 seconds.\n",
      "-- Epoch 96\n",
      "Norm: 10.04, NNZs: 1, Bias: -0.339278, T: 384, Avg. loss: 0.015919\n",
      "Total training time: 0.01 seconds.\n",
      "-- Epoch 97\n",
      "Norm: 10.03, NNZs: 1, Bias: -0.332671, T: 388, Avg. loss: 0.019158\n",
      "Total training time: 0.01 seconds.\n",
      "-- Epoch 98\n",
      "Norm: 10.03, NNZs: 1, Bias: -0.327627, T: 392, Avg. loss: 0.014644\n",
      "Total training time: 0.01 seconds.\n",
      "-- Epoch 99\n",
      "Norm: 10.04, NNZs: 1, Bias: -0.320371, T: 396, Avg. loss: 0.014089\n",
      "Total training time: 0.01 seconds.\n",
      "-- Epoch 100\n",
      "Norm: 10.03, NNZs: 1, Bias: -0.314155, T: 400, Avg. loss: 0.016996\n",
      "Total training time: 0.01 seconds.\n",
      "-- Epoch 101\n",
      "Norm: 10.03, NNZs: 1, Bias: -0.309383, T: 404, Avg. loss: 0.012998\n",
      "Total training time: 0.01 seconds.\n",
      "-- Epoch 102\n",
      "Norm: 10.04, NNZs: 1, Bias: -0.302662, T: 408, Avg. loss: 0.012486\n",
      "Total training time: 0.01 seconds.\n",
      "-- Epoch 103\n",
      "Norm: 10.03, NNZs: 1, Bias: -0.296810, T: 412, Avg. loss: 0.015095\n",
      "Total training time: 0.01 seconds.\n",
      "-- Epoch 104\n",
      "Norm: 10.03, NNZs: 1, Bias: -0.292295, T: 416, Avg. loss: 0.011552\n",
      "Total training time: 0.01 seconds.\n",
      "-- Epoch 105\n",
      "Norm: 10.03, NNZs: 1, Bias: -0.286061, T: 420, Avg. loss: 0.011079\n",
      "Total training time: 0.01 seconds.\n",
      "-- Epoch 106\n",
      "Norm: 10.03, NNZs: 1, Bias: -0.280549, T: 424, Avg. loss: 0.013421\n",
      "Total training time: 0.01 seconds.\n",
      "-- Epoch 107\n",
      "Norm: 10.03, NNZs: 1, Bias: -0.276276, T: 428, Avg. loss: 0.010278\n",
      "Total training time: 0.01 seconds.\n",
      "-- Epoch 108\n",
      "Norm: 10.03, NNZs: 1, Bias: -0.270488, T: 432, Avg. loss: 0.009843\n",
      "Total training time: 0.01 seconds.\n",
      "-- Epoch 109\n",
      "Norm: 10.03, NNZs: 1, Bias: -0.265293, T: 436, Avg. loss: 0.011944\n",
      "Total training time: 0.01 seconds.\n",
      "-- Epoch 110\n",
      "Norm: 10.02, NNZs: 1, Bias: -0.261250, T: 440, Avg. loss: 0.009156\n",
      "Total training time: 0.01 seconds.\n",
      "-- Epoch 111\n",
      "Norm: 10.03, NNZs: 1, Bias: -0.255871, T: 444, Avg. loss: 0.008755\n",
      "Total training time: 0.01 seconds.\n",
      "-- Epoch 112\n",
      "Norm: 10.03, NNZs: 1, Bias: -0.250971, T: 448, Avg. loss: 0.010641\n",
      "Total training time: 0.01 seconds.\n",
      "-- Epoch 113\n",
      "Norm: 10.02, NNZs: 1, Bias: -0.247144, T: 452, Avg. loss: 0.008164\n",
      "Total training time: 0.01 seconds.\n",
      "-- Epoch 114\n",
      "Norm: 10.03, NNZs: 1, Bias: -0.242140, T: 456, Avg. loss: 0.007796\n",
      "Total training time: 0.01 seconds.\n",
      "-- Epoch 115\n",
      "Norm: 10.02, NNZs: 1, Bias: -0.237518, T: 460, Avg. loss: 0.009489\n",
      "Total training time: 0.01 seconds.\n",
      "-- Epoch 116\n",
      "Norm: 10.02, NNZs: 1, Bias: -0.233894, T: 464, Avg. loss: 0.007287\n",
      "Total training time: 0.01 seconds.\n",
      "-- Epoch 117\n",
      "Norm: 10.03, NNZs: 1, Bias: -0.229235, T: 468, Avg. loss: 0.006949\n",
      "Total training time: 0.01 seconds.\n",
      "-- Epoch 118\n",
      "Norm: 10.02, NNZs: 1, Bias: -0.224872, T: 472, Avg. loss: 0.008469\n",
      "Total training time: 0.01 seconds.\n",
      "-- Epoch 119\n",
      "Norm: 10.02, NNZs: 1, Bias: -0.221441, T: 476, Avg. loss: 0.006511\n",
      "Total training time: 0.01 seconds.\n",
      "-- Epoch 120\n",
      "Norm: 10.03, NNZs: 1, Bias: -0.217099, T: 480, Avg. loss: 0.006200\n",
      "Total training time: 0.01 seconds.\n",
      "-- Epoch 121\n",
      "Norm: 10.02, NNZs: 1, Bias: -0.212978, T: 484, Avg. loss: 0.007566\n",
      "Total training time: 0.01 seconds.\n",
      "-- Epoch 122\n",
      "Norm: 10.02, NNZs: 1, Bias: -0.209729, T: 488, Avg. loss: 0.005823\n",
      "Total training time: 0.01 seconds.\n",
      "-- Epoch 123\n",
      "Norm: 10.02, NNZs: 1, Bias: -0.205679, T: 492, Avg. loss: 0.005538\n",
      "Total training time: 0.01 seconds.\n",
      "-- Epoch 124\n",
      "Norm: 10.02, NNZs: 1, Bias: -0.201786, T: 496, Avg. loss: 0.006764\n",
      "Total training time: 0.01 seconds.\n",
      "-- Epoch 125\n",
      "Norm: 10.02, NNZs: 1, Bias: -0.198709, T: 500, Avg. loss: 0.005212\n",
      "Total training time: 0.01 seconds.\n",
      "-- Epoch 126\n",
      "Norm: 10.02, NNZs: 1, Bias: -0.194928, T: 504, Avg. loss: 0.004951\n",
      "Total training time: 0.01 seconds.\n",
      "-- Epoch 127\n",
      "Norm: 10.02, NNZs: 1, Bias: -0.191248, T: 508, Avg. loss: 0.006052\n",
      "Total training time: 0.01 seconds.\n",
      "-- Epoch 128\n",
      "Norm: 10.02, NNZs: 1, Bias: -0.188333, T: 512, Avg. loss: 0.004669\n",
      "Total training time: 0.01 seconds.\n",
      "-- Epoch 129\n",
      "Norm: 10.02, NNZs: 1, Bias: -0.184801, T: 516, Avg. loss: 0.004430\n",
      "Total training time: 0.01 seconds.\n",
      "-- Epoch 130\n",
      "Norm: 10.02, NNZs: 1, Bias: -0.181321, T: 520, Avg. loss: 0.005420\n",
      "Total training time: 0.01 seconds.\n",
      "-- Epoch 131\n",
      "Norm: 10.02, NNZs: 1, Bias: -0.178558, T: 524, Avg. loss: 0.004186\n",
      "Total training time: 0.01 seconds.\n",
      "-- Epoch 132\n",
      "Norm: 10.02, NNZs: 1, Bias: -0.175256, T: 528, Avg. loss: 0.003967\n",
      "Total training time: 0.01 seconds.\n",
      "-- Epoch 133\n",
      "Norm: 10.02, NNZs: 1, Bias: -0.171964, T: 532, Avg. loss: 0.004857\n",
      "Total training time: 0.01 seconds.\n",
      "-- Epoch 134\n",
      "Norm: 10.02, NNZs: 1, Bias: -0.169346, T: 536, Avg. loss: 0.003756\n",
      "Total training time: 0.01 seconds.\n",
      "-- Epoch 135\n",
      "Norm: 10.02, NNZs: 1, Bias: -0.166257, T: 540, Avg. loss: 0.003555\n",
      "Total training time: 0.01 seconds.\n",
      "-- Epoch 136\n",
      "Norm: 10.02, NNZs: 1, Bias: -0.163142, T: 544, Avg. loss: 0.004355\n",
      "Total training time: 0.01 seconds.\n",
      "-- Epoch 137\n",
      "Norm: 10.02, NNZs: 1, Bias: -0.160660, T: 548, Avg. loss: 0.003373\n",
      "Total training time: 0.01 seconds.\n",
      "-- Epoch 138\n",
      "Norm: 10.02, NNZs: 1, Bias: -0.157768, T: 552, Avg. loss: 0.003189\n",
      "Total training time: 0.01 seconds.\n",
      "-- Epoch 139\n",
      "Norm: 10.02, NNZs: 1, Bias: -0.154819, T: 556, Avg. loss: 0.003909\n",
      "Total training time: 0.01 seconds.\n",
      "-- Epoch 140\n",
      "Norm: 10.02, NNZs: 1, Bias: -0.152466, T: 560, Avg. loss: 0.003031\n",
      "Total training time: 0.01 seconds.\n",
      "-- Epoch 141\n",
      "Norm: 10.02, NNZs: 1, Bias: -0.149756, T: 564, Avg. loss: 0.002862\n",
      "Total training time: 0.01 seconds.\n",
      "-- Epoch 142\n",
      "Norm: 10.02, NNZs: 1, Bias: -0.146963, T: 568, Avg. loss: 0.003510\n",
      "Total training time: 0.01 seconds.\n",
      "-- Epoch 143\n",
      "Norm: 10.02, NNZs: 1, Bias: -0.144732, T: 572, Avg. loss: 0.002725\n",
      "Total training time: 0.01 seconds.\n",
      "-- Epoch 144\n",
      "Norm: 10.02, NNZs: 1, Bias: -0.142192, T: 576, Avg. loss: 0.002571\n",
      "Total training time: 0.01 seconds.\n",
      "-- Epoch 145\n",
      "Norm: 10.02, NNZs: 1, Bias: -0.139546, T: 580, Avg. loss: 0.003154\n",
      "Total training time: 0.01 seconds.\n",
      "-- Epoch 146\n",
      "Norm: 10.01, NNZs: 1, Bias: -0.137430, T: 584, Avg. loss: 0.002452\n",
      "Total training time: 0.01 seconds.\n",
      "-- Epoch 147\n",
      "Norm: 10.02, NNZs: 1, Bias: -0.135047, T: 588, Avg. loss: 0.002311\n",
      "Total training time: 0.01 seconds.\n",
      "-- Epoch 148\n",
      "Norm: 10.01, NNZs: 1, Bias: -0.132540, T: 592, Avg. loss: 0.002836\n",
      "Total training time: 0.01 seconds.\n",
      "-- Epoch 149\n",
      "Norm: 10.01, NNZs: 1, Bias: -0.130532, T: 596, Avg. loss: 0.002208\n",
      "Total training time: 0.01 seconds.\n",
      "-- Epoch 150\n",
      "Norm: 10.01, NNZs: 1, Bias: -0.128296, T: 600, Avg. loss: 0.002079\n",
      "Total training time: 0.01 seconds.\n",
      "-- Epoch 151\n",
      "Norm: 10.01, NNZs: 1, Bias: -0.125919, T: 604, Avg. loss: 0.002552\n",
      "Total training time: 0.01 seconds.\n",
      "-- Epoch 152\n",
      "Norm: 10.01, NNZs: 1, Bias: -0.124013, T: 608, Avg. loss: 0.001989\n",
      "Total training time: 0.01 seconds.\n",
      "-- Epoch 153\n",
      "Norm: 10.01, NNZs: 1, Bias: -0.121914, T: 612, Avg. loss: 0.001871\n",
      "Total training time: 0.01 seconds.\n",
      "-- Epoch 154\n",
      "Norm: 10.01, NNZs: 1, Bias: -0.119660, T: 616, Avg. loss: 0.002297\n",
      "Total training time: 0.01 seconds.\n",
      "-- Epoch 155\n",
      "Norm: 10.01, NNZs: 1, Bias: -0.117851, T: 620, Avg. loss: 0.001793\n",
      "Total training time: 0.01 seconds.\n",
      "-- Epoch 156\n",
      "Norm: 10.01, NNZs: 1, Bias: -0.115878, T: 624, Avg. loss: 0.001685\n",
      "Total training time: 0.01 seconds.\n",
      "-- Epoch 157\n",
      "Norm: 10.01, NNZs: 1, Bias: -0.113740, T: 628, Avg. loss: 0.002069\n",
      "Total training time: 0.01 seconds.\n",
      "-- Epoch 158\n",
      "Norm: 10.01, NNZs: 1, Bias: -0.112024, T: 632, Avg. loss: 0.001617\n",
      "Total training time: 0.01 seconds.\n",
      "-- Epoch 159\n",
      "Norm: 10.01, NNZs: 1, Bias: -0.110169, T: 636, Avg. loss: 0.001518\n",
      "Total training time: 0.01 seconds.\n",
      "-- Epoch 160\n",
      "Norm: 10.01, NNZs: 1, Bias: -0.108140, T: 640, Avg. loss: 0.001865\n",
      "Total training time: 0.01 seconds.\n",
      "-- Epoch 161\n",
      "Norm: 10.01, NNZs: 1, Bias: -0.106510, T: 644, Avg. loss: 0.001460\n",
      "Total training time: 0.01 seconds.\n",
      "-- Epoch 162\n",
      "Norm: 10.01, NNZs: 1, Bias: -0.104766, T: 648, Avg. loss: 0.001369\n",
      "Total training time: 0.01 seconds.\n",
      "-- Epoch 163\n",
      "Norm: 10.01, NNZs: 1, Bias: -0.102840, T: 652, Avg. loss: 0.001682\n",
      "Total training time: 0.01 seconds.\n",
      "-- Epoch 164\n",
      "Norm: 10.01, NNZs: 1, Bias: -0.101292, T: 656, Avg. loss: 0.001318\n",
      "Total training time: 0.01 seconds.\n",
      "-- Epoch 165\n",
      "Norm: 10.01, NNZs: 1, Bias: -0.099650, T: 660, Avg. loss: 0.001235\n",
      "Total training time: 0.01 seconds.\n",
      "-- Epoch 166\n",
      "Norm: 10.01, NNZs: 1, Bias: -0.097823, T: 664, Avg. loss: 0.001517\n",
      "Total training time: 0.01 seconds.\n",
      "-- Epoch 167\n",
      "Norm: 10.01, NNZs: 1, Bias: -0.096352, T: 668, Avg. loss: 0.001191\n",
      "Total training time: 0.01 seconds.\n",
      "-- Epoch 168\n",
      "Norm: 10.01, NNZs: 1, Bias: -0.094806, T: 672, Avg. loss: 0.001115\n",
      "Total training time: 0.01 seconds.\n",
      "-- Epoch 169\n",
      "Norm: 10.01, NNZs: 1, Bias: -0.093071, T: 676, Avg. loss: 0.001369\n",
      "Total training time: 0.01 seconds.\n",
      "-- Epoch 170\n",
      "Norm: 10.01, NNZs: 1, Bias: -0.091674, T: 680, Avg. loss: 0.001076\n",
      "Total training time: 0.01 seconds.\n",
      "-- Epoch 171\n",
      "Norm: 10.01, NNZs: 1, Bias: -0.090218, T: 684, Avg. loss: 0.001007\n",
      "Total training time: 0.01 seconds.\n",
      "-- Epoch 172\n",
      "Norm: 10.01, NNZs: 1, Bias: -0.088569, T: 688, Avg. loss: 0.001237\n",
      "Total training time: 0.01 seconds.\n",
      "-- Epoch 173\n",
      "Norm: 10.01, NNZs: 1, Bias: -0.087241, T: 692, Avg. loss: 0.000974\n",
      "Total training time: 0.01 seconds.\n",
      "-- Epoch 174\n",
      "Norm: 10.01, NNZs: 1, Bias: -0.085869, T: 696, Avg. loss: 0.000910\n",
      "Total training time: 0.01 seconds.\n",
      "-- Epoch 175\n",
      "Norm: 10.01, NNZs: 1, Bias: -0.084303, T: 700, Avg. loss: 0.001118\n",
      "Total training time: 0.01 seconds.\n",
      "-- Epoch 176\n",
      "Norm: 10.01, NNZs: 1, Bias: -0.083041, T: 704, Avg. loss: 0.000881\n",
      "Total training time: 0.01 seconds.\n",
      "-- Epoch 177\n",
      "Norm: 10.01, NNZs: 1, Bias: -0.081747, T: 708, Avg. loss: 0.000823\n",
      "Total training time: 0.01 seconds.\n",
      "-- Epoch 178\n",
      "Norm: 10.01, NNZs: 1, Bias: -0.080259, T: 712, Avg. loss: 0.001010\n",
      "Total training time: 0.01 seconds.\n",
      "-- Epoch 179\n",
      "Norm: 10.01, NNZs: 1, Bias: -0.079059, T: 716, Avg. loss: 0.000797\n",
      "Total training time: 0.01 seconds.\n",
      "-- Epoch 180\n",
      "Norm: 10.01, NNZs: 1, Bias: -0.077839, T: 720, Avg. loss: 0.000744\n",
      "Total training time: 0.01 seconds.\n",
      "-- Epoch 181\n",
      "Norm: 10.01, NNZs: 1, Bias: -0.076424, T: 724, Avg. loss: 0.000914\n",
      "Total training time: 0.01 seconds.\n",
      "-- Epoch 182\n",
      "Norm: 10.01, NNZs: 1, Bias: -0.075284, T: 728, Avg. loss: 0.000722\n",
      "Total training time: 0.01 seconds.\n",
      "-- Epoch 183\n",
      "Norm: 10.01, NNZs: 1, Bias: -0.074132, T: 732, Avg. loss: 0.000673\n",
      "Total training time: 0.01 seconds.\n",
      "-- Epoch 184\n",
      "Norm: 10.01, NNZs: 1, Bias: -0.072787, T: 736, Avg. loss: 0.000827\n",
      "Total training time: 0.01 seconds.\n",
      "-- Epoch 185\n",
      "Norm: 10.01, NNZs: 1, Bias: -0.071702, T: 740, Avg. loss: 0.000654\n",
      "Total training time: 0.01 seconds.\n",
      "-- Epoch 186\n",
      "Norm: 10.01, NNZs: 1, Bias: -0.070615, T: 744, Avg. loss: 0.000610\n",
      "Total training time: 0.01 seconds.\n",
      "-- Epoch 187\n",
      "Norm: 10.01, NNZs: 1, Bias: -0.069336, T: 748, Avg. loss: 0.000748\n",
      "Total training time: 0.01 seconds.\n",
      "-- Epoch 188\n",
      "Norm: 10.01, NNZs: 1, Bias: -0.068304, T: 752, Avg. loss: 0.000593\n",
      "Total training time: 0.01 seconds.\n",
      "-- Epoch 189\n",
      "Norm: 10.01, NNZs: 1, Bias: -0.067278, T: 756, Avg. loss: 0.000552\n",
      "Total training time: 0.01 seconds.\n",
      "-- Epoch 190\n",
      "Norm: 10.01, NNZs: 1, Bias: -0.066061, T: 760, Avg. loss: 0.000678\n",
      "Total training time: 0.01 seconds.\n",
      "-- Epoch 191\n",
      "Norm: 10.01, NNZs: 1, Bias: -0.065079, T: 764, Avg. loss: 0.000538\n",
      "Total training time: 0.01 seconds.\n",
      "-- Epoch 192\n",
      "Norm: 10.01, NNZs: 1, Bias: -0.064109, T: 768, Avg. loss: 0.000500\n",
      "Total training time: 0.01 seconds.\n",
      "-- Epoch 193\n",
      "Norm: 10.01, NNZs: 1, Bias: -0.062952, T: 772, Avg. loss: 0.000614\n",
      "Total training time: 0.01 seconds.\n",
      "-- Epoch 194\n",
      "Norm: 10.01, NNZs: 1, Bias: -0.062018, T: 776, Avg. loss: 0.000488\n",
      "Total training time: 0.01 seconds.\n",
      "-- Epoch 195\n",
      "Norm: 10.01, NNZs: 1, Bias: -0.061101, T: 780, Avg. loss: 0.000454\n",
      "Total training time: 0.01 seconds.\n",
      "-- Epoch 196\n",
      "Norm: 10.01, NNZs: 1, Bias: -0.059999, T: 784, Avg. loss: 0.000556\n",
      "Total training time: 0.01 seconds.\n",
      "-- Epoch 197\n",
      "Norm: 10.01, NNZs: 1, Bias: -0.059111, T: 788, Avg. loss: 0.000443\n",
      "Total training time: 0.01 seconds.\n",
      "-- Epoch 198\n",
      "Norm: 10.01, NNZs: 1, Bias: -0.058244, T: 792, Avg. loss: 0.000411\n",
      "Total training time: 0.01 seconds.\n",
      "-- Epoch 199\n",
      "Norm: 10.01, NNZs: 1, Bias: -0.057195, T: 796, Avg. loss: 0.000504\n",
      "Total training time: 0.01 seconds.\n",
      "-- Epoch 200\n",
      "Norm: 10.01, NNZs: 1, Bias: -0.056349, T: 800, Avg. loss: 0.000402\n",
      "Total training time: 0.01 seconds.\n",
      "-- Epoch 201\n",
      "Norm: 10.01, NNZs: 1, Bias: -0.055529, T: 804, Avg. loss: 0.000373\n",
      "Total training time: 0.01 seconds.\n",
      "Convergence after 201 epochs took 0.01 seconds\n"
     ]
    },
    {
     "data": {
      "text/plain": [
       "SGDRegressor(epsilon=0.001, eta0=0.1, max_iter=6000, n_iter_no_change=100,\n",
       "             verbose=1)"
      ]
     },
     "execution_count": 29,
     "metadata": {},
     "output_type": "execute_result"
    }
   ],
   "source": [
    "sgd_model.fit(data[['공부시간']], data['성적점수'])   "
   ]
  },
  {
   "cell_type": "code",
   "execution_count": 30,
   "id": "14f231e2",
   "metadata": {},
   "outputs": [
    {
     "name": "stdout",
     "output_type": "stream",
     "text": [
      "가중치 : [10.00608301]\n",
      "절편 : [-0.05552921]\n"
     ]
    }
   ],
   "source": [
    "print(\"가중치 :\", sgd_model.coef_)\n",
    "print(\"절편 :\", sgd_model.intercept_)"
   ]
  },
  {
   "cell_type": "markdown",
   "id": "33011d12",
   "metadata": {},
   "source": [
    "# 선형모델의 장점\n",
    "- 결과예측(추론) 속도가 빠르다.\n",
    "- 대용량 데이터에도 충분히 활용 가능하다.\n",
    "- 특성이 많은 데이터 세트라면 훌륭한 성능을 낼 수 있다."
   ]
  },
  {
   "cell_type": "markdown",
   "id": "98a4acf0",
   "metadata": {},
   "source": [
    "# 해석적 방법을 활용한 고전적 선형모델의 단점\n",
    "- 특성이 적은 저차원 데이터에서는 다른 모델의 일반화 성능이 더 좋을 수 있다. -> 특성확장을 하기도 한다.\n",
    "- LinearRegression Model은 복잡도를 제어할 방법이 없어 과대적합 되기 쉽다. -> 모델 정규화를 통해 과대적합을 제어한다."
   ]
  },
  {
   "cell_type": "code",
   "execution_count": null,
   "id": "9fc385a1",
   "metadata": {},
   "outputs": [],
   "source": []
  },
  {
   "cell_type": "markdown",
   "id": "8f1b5ae7",
   "metadata": {},
   "source": [
    "- optimizer: 최적화 도구\n",
    "- 그중 경사하강법 GD 사용\n",
    "- epoch\n",
    "- loss function -> MSE"
   ]
  },
  {
   "cell_type": "code",
   "execution_count": null,
   "id": "48cdd9f1",
   "metadata": {},
   "outputs": [],
   "source": []
  },
  {
   "cell_type": "markdown",
   "id": "6a0e99ff",
   "metadata": {},
   "source": [
    "# 다항회귀\n",
    "- y = (w1x1) + (w2x2) + (w3x3) ... +b\n",
    "- 다항회귀 : y = (w1x1) + (w2x2^2) + (w2x2^3) ... + b (항의 차수가 높은 것도 포함\n",
    "- 선형 모델의 수식에서 입력특성에 2차이상의 항이 포함된 경우\n",
    "- 고차항이 포함되면 데이터의 특성을 더 fit하게 맞출 수 있어 성능 개선의 여지가 있다.\n",
    "- 데이터에 너무 딱 맞게 가기 때문에 과대적합이 발생할 수 있다."
   ]
  },
  {
   "cell_type": "code",
   "execution_count": 31,
   "id": "22a0b654",
   "metadata": {},
   "outputs": [
    {
     "name": "stderr",
     "output_type": "stream",
     "text": [
      "C:\\Users\\AI\\Anaconda3\\lib\\site-packages\\sklearn\\utils\\deprecation.py:87: FutureWarning: Function load_boston is deprecated; `load_boston` is deprecated in 1.0 and will be removed in 1.2.\n",
      "\n",
      "    The Boston housing prices dataset has an ethical problem. You can refer to\n",
      "    the documentation of this function for further details.\n",
      "\n",
      "    The scikit-learn maintainers therefore strongly discourage the use of this\n",
      "    dataset unless the purpose of the code is to study and educate about\n",
      "    ethical issues in data science and machine learning.\n",
      "\n",
      "    In this special case, you can fetch the dataset from the original\n",
      "    source::\n",
      "\n",
      "        import pandas as pd\n",
      "        import numpy as np\n",
      "\n",
      "\n",
      "        data_url = \"http://lib.stat.cmu.edu/datasets/boston\"\n",
      "        raw_df = pd.read_csv(data_url, sep=\"\\s+\", skiprows=22, header=None)\n",
      "        data = np.hstack([raw_df.values[::2, :], raw_df.values[1::2, :2]])\n",
      "        target = raw_df.values[1::2, 2]\n",
      "\n",
      "    Alternative datasets include the California housing dataset (i.e.\n",
      "    :func:`~sklearn.datasets.fetch_california_housing`) and the Ames housing\n",
      "    dataset. You can load the datasets as follows::\n",
      "\n",
      "        from sklearn.datasets import fetch_california_housing\n",
      "        housing = fetch_california_housing()\n",
      "\n",
      "    for the California housing dataset and::\n",
      "\n",
      "        from sklearn.datasets import fetch_openml\n",
      "        housing = fetch_openml(name=\"house_prices\", as_frame=True)\n",
      "\n",
      "    for the Ames housing dataset.\n",
      "    \n",
      "  warnings.warn(msg, category=FutureWarning)\n"
     ]
    }
   ],
   "source": [
    "boston = load_boston()\n",
    "data = pd.DataFrame(boston.data, columns=boston.feature_names)"
   ]
  },
  {
   "cell_type": "code",
   "execution_count": 32,
   "id": "add20fb4",
   "metadata": {},
   "outputs": [],
   "source": [
    "X_train, X_test, y_train, y_test = train_test_split(data, boston.target, random_state=726)"
   ]
  },
  {
   "cell_type": "code",
   "execution_count": 33,
   "id": "3cf7ca83",
   "metadata": {
    "scrolled": true
   },
   "outputs": [
    {
     "data": {
      "image/png": "[encoded data removed]",
      "text/plain": [
       "<Figure size 720x720 with 1 Axes>"
      ]
     },
     "metadata": {
      "needs_background": "light"
     },
     "output_type": "display_data"
    }
   ],
   "source": [
    "plt.figure(figsize=(10, 10)) #가로, 세로 크기 설정\n",
    "plt.scatter(X_train['LSTAT'], y_train, label='original')\n",
    "\n",
    "# 선형모델 학습\n",
    "LSTAT_model = LinearRegression()\n",
    "LSTAT_model.fit(X_train[['LSTAT']], y_train)\n",
    "# 선형모델의 예측결과 확인\n",
    "pre = LSTAT_model.predict(X_train[['LSTAT']])\n",
    "plt.scatter(X_train[['LSTAT']], pre, label='predict')\n",
    "\n",
    "plt.legend()\n",
    "plt.xlabel('LSTAT')\n",
    "plt.ylabel('PRICE')\n",
    "plt.show()"
   ]
  },
  {
   "cell_type": "code",
   "execution_count": null,
   "id": "b74e2fc8",
   "metadata": {},
   "outputs": [],
   "source": []
  },
  {
   "cell_type": "markdown",
   "id": "805b3c9e",
   "metadata": {},
   "source": [
    "#### 다항회귀 구현하기\n",
    "1. 특성확장을 통해서 다항식을 만들어준다.\n",
    "2. sklearn의 PolynomialFeatures를 이용한다."
   ]
  },
  {
   "cell_type": "code",
   "execution_count": 34,
   "id": "1e33395a",
   "metadata": {},
   "outputs": [],
   "source": [
    "# 특성 확장\n",
    "X_train['LSTAT x LSTAT' ] = X_train['LSTAT']**2  #서로 다른 특성끼리 곱해서 다항회귀를 유도하기도 한다"
   ]
  },
  {
   "cell_type": "code",
   "execution_count": 35,
   "id": "266a3bd8",
   "metadata": {},
   "outputs": [],
   "source": [
    "# 모델학습\n",
    "LSTAT_model2 = LinearRegression()\n",
    "LSTAT_model2.fit(X_train[[\"LSTAT\", 'LSTAT x LSTAT']], y_train)\n",
    "# 모델예측\n",
    "pre2 = LSTAT_model2.predict(X_train[[\"LSTAT\", 'LSTAT x LSTAT']])"
   ]
  },
  {
   "cell_type": "code",
   "execution_count": 36,
   "id": "bb7f37a5",
   "metadata": {},
   "outputs": [
    {
     "data": {
      "image/png": "[encoded data removed]",
      "text/plain": [
       "<Figure size 360x360 with 1 Axes>"
      ]
     },
     "metadata": {
      "needs_background": "light"
     },
     "output_type": "display_data"
    }
   ],
   "source": [
    "plt.figure(figsize=(5,5))\n",
    "plt.scatter(X_train['LSTAT'], y_train, label='original')  #오리지날 데이터\n",
    "plt.scatter(X_train['LSTAT'], pre2, label='predcit2')  #다항회귀 결과\n",
    "\n",
    "plt.legend()\n",
    "plt.xlabel('LSTAT')\n",
    "plt.ylabel(\"PRICE\")\n",
    "plt.show()"
   ]
  },
  {
   "cell_type": "markdown",
   "id": "b285653c",
   "metadata": {},
   "source": []
  },
  {
   "cell_type": "markdown",
   "id": "c01cc6c3",
   "metadata": {},
   "source": [
    "# 릿지, 라쏘\n",
    "    - 수학적 해석방법을 통한 전통적 Regression은 튜닝할 요소가 없다. \n",
    "    - 과대적합이 일어나버리면 어떻게할 수 없는 단점이 있다.\n",
    "    - 그 단점을 어떻게 극복할지 고민의 결과가 릿지와 라쏘\n",
    "    - 모델 정규화를 통화 과대적합을 해소\n",
    "   \n",
    "- 정규화: 가중치의 값을 조정하여 제약을 주는 것\n",
    "    - 라쏘(Lasso/L1)\n",
    "        - w의 모든 원소에 똑같은 힘으로 규제를 적용하는 방법. 특정 계수들은 0이 됨. \n",
    "        - ★특성선택이 자동으로 이루어짐★ (영향이 낮은 애들은 자동적으로 걸러지는 효과가 있음 그런 애들은 0으로 수렴하니까)\n",
    "    - 릿지(Ridge/L2)\n",
    "        - w의 모든 원소에 골고루 규제를 적용하여 0에 가깝게 만듬\n",
    "        - 가중치가 큰 값들은 더 큰 규제를 주고, 가중치가 적은 값들은 더 적은 규제를 준다."
   ]
  },
  {
   "cell_type": "code",
   "execution_count": null,
   "id": "8c155865",
   "metadata": {},
   "outputs": [],
   "source": []
  },
  {
   "cell_type": "code",
   "execution_count": null,
   "id": "f7c09367",
   "metadata": {},
   "outputs": [],
   "source": []
  },
  {
   "cell_type": "code",
   "execution_count": null,
   "id": "9470264a",
   "metadata": {},
   "outputs": [],
   "source": []
  },
  {
   "cell_type": "code",
   "execution_count": null,
   "id": "26865d45",
   "metadata": {},
   "outputs": [],
   "source": []
  },
  {
   "cell_type": "code",
   "execution_count": null,
   "id": "27c80981",
   "metadata": {},
   "outputs": [],
   "source": []
  },
  {
   "cell_type": "code",
   "execution_count": null,
   "id": "96f8f89c",
   "metadata": {},
   "outputs": [],
   "source": []
  },
  {
   "cell_type": "code",
   "execution_count": null,
   "id": "f70bfbfc",
   "metadata": {},
   "outputs": [],
   "source": []
  },
  {
   "cell_type": "code",
   "execution_count": null,
   "id": "d3ccecfa",
   "metadata": {},
   "outputs": [],
   "source": []
  },
  {
   "cell_type": "code",
   "execution_count": null,
   "id": "3355a3ab",
   "metadata": {},
   "outputs": [],
   "source": []
  },
  {
   "cell_type": "code",
   "execution_count": null,
   "id": "43ec40d0",
   "metadata": {},
   "outputs": [],
   "source": []
  },
  {
   "cell_type": "code",
   "execution_count": null,
   "id": "4be91861",
   "metadata": {},
   "outputs": [],
   "source": []
  },
  {
   "cell_type": "code",
   "execution_count": null,
   "id": "eb2a8a57",
   "metadata": {},
   "outputs": [],
   "source": []
  },
  {
   "cell_type": "code",
   "execution_count": null,
   "id": "85b5ca69",
   "metadata": {},
   "outputs": [],
   "source": []
  },
  {
   "cell_type": "code",
   "execution_count": null,
   "id": "4ca90622",
   "metadata": {},
   "outputs": [],
   "source": []
  },
  {
   "cell_type": "code",
   "execution_count": null,
   "id": "1aea4475",
   "metadata": {},
   "outputs": [],
   "source": []
  },
  {
   "cell_type": "code",
   "execution_count": null,
   "id": "b440d535",
   "metadata": {},
   "outputs": [],
   "source": []
  },
  {
   "cell_type": "code",
   "execution_count": null,
   "id": "518cdba5",
   "metadata": {},
   "outputs": [],
   "source": []
  },
  {
   "cell_type": "code",
   "execution_count": null,
   "id": "1795bcbb",
   "metadata": {},
   "outputs": [],
   "source": []
  }
 ],
 "metadata": {
  "kernelspec": {
   "display_name": "Python 3 (ipykernel)",
   "language": "python",
   "name": "python3"
  },
  "language_info": {
   "codemirror_mode": {
    "name": "ipython",
    "version": 3
   },
   "file_extension": ".py",
   "mimetype": "text/x-python",
   "name": "python",
   "nbconvert_exporter": "python",
   "pygments_lexer": "ipython3",
   "version": "3.9.12"
  },
  "toc": {
   "base_numbering": 1,
   "nav_menu": {},
   "number_sections": true,
   "sideBar": true,
   "skip_h1_title": false,
   "title_cell": "Table of Contents",
   "title_sidebar": "Contents",
   "toc_cell": false,
   "toc_position": {
    "height": "calc(100% - 180px)",
    "left": "10px",
    "top": "150px",
    "width": "384px"
   },
   "toc_section_display": true,
   "toc_window_display": true
  }
 },
 "nbformat": 4,
 "nbformat_minor": 5
}
