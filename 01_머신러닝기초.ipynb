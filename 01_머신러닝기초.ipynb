{
 "cells": [
  {
   "cell_type": "markdown",
   "id": "a61dd610",
   "metadata": {},
   "source": [
    "# 머신러닝 학습 방법\n",
    "\n",
    "- 거리 기반 학습\n",
    "- 수식 기반 학습\n",
    "- 논리 기반 학습\n",
    "- 확률 기반 학습(Naive bayes)"
   ]
  },
  {
   "cell_type": "markdown",
   "id": "8c93e9bf",
   "metadata": {},
   "source": [
    "## 거리 기반 학습으로 AND 논리를 학습하는 모델을 만들자\n",
    "\n",
    "- 머신러닝모델 종류: KNN, SVM"
   ]
  },
  {
   "cell_type": "code",
   "execution_count": 2,
   "id": "09ca757f",
   "metadata": {},
   "outputs": [
    {
     "data": {
      "text/plain": [
       "[[0, 0, 0], [0, 1, 0], [1, 0, 0], [1, 1, 1]]"
      ]
     },
     "execution_count": 2,
     "metadata": {},
     "output_type": "execute_result"
    }
   ],
   "source": [
    "#AND 논리 선언\n",
    "data = [[0,0,0],\n",
    "       [0,1,0],\n",
    "       [1,0,0],\n",
    "       [1,1,1]]\n",
    "\n",
    "data"
   ]
  },
  {
   "cell_type": "code",
   "execution_count": 22,
   "id": "24a22d02",
   "metadata": {
    "scrolled": true
   },
   "outputs": [
    {
     "data": {
      "text/plain": [
       "1"
      ]
     },
     "execution_count": 22,
     "metadata": {},
     "output_type": "execute_result"
    }
   ],
   "source": [
    "#입력된 데이터(x1, x2)에서 가장 가까운 데이터의 라벨을 출력\n",
    "def distanceML(x1, x2):\n",
    "    #최종 결과값\n",
    "    result = 0\n",
    "    #최소 거리를 비교하기 위한 값\n",
    "    minDis = 99\n",
    "    \n",
    "    #특성 데이터에서 한 행씩 데이터를 가져온다\n",
    "    for row in data:\n",
    "        #특성 데이터와 라벨 데이터를 분리\n",
    "        X = row[0:2]   #특성 데이터 (각 명제의 참 거짓 여부)\n",
    "        y = row[2]   #라벨 데이터 (문장의 참 거짓 여부)\n",
    "        #print(X, y)\n",
    "        \n",
    "        #입력된 데이터 (x1, x2)와 각 특성데이터간의 거리 계산\n",
    "        # abs : 절대값을 계산 (음수를 없애기 위해서 - 거리는 음수가 없기 때문에) / 제곱으로 계산할 수 도 있다.\n",
    "        dis = abs(x1-X[0]) + abs(x2-X[1])\n",
    "        \n",
    "        #거리가 최소인 데이터를 찾아서 라벨 값 반환\n",
    "        if minDis > dis :\n",
    "            minDis = dis   # 점점 작은 값이 들어감\n",
    "            result = y\n",
    "    #거리가 가장 작은 데이터의 라벨값을 반환\n",
    "    return result\n",
    "            \n",
    "print(distanceML(0, 0))    \n",
    "print(distanceML(1, 0))\n",
    "print(distanceML(0, 1))\n",
    "print(distanceML(1, 1))\n",
    "\n",
    "#반복문이니까 거리 차이가 0인 애를 찾아서 그것의 y값을 빼준다.  <- 중요\n",
    "#반복문을 돌리면서 거리가 가장 가까운 것을 찾는다."
   ]
  },
  {
   "cell_type": "code",
   "execution_count": 23,
   "id": "4fd8c181",
   "metadata": {},
   "outputs": [
    {
     "name": "stdout",
     "output_type": "stream",
     "text": [
      "0\n",
      "1\n",
      "1\n",
      "1\n"
     ]
    }
   ],
   "source": [
    "#OR 논리 선언\n",
    "data = [[0,0,0],\n",
    "       [0,1,1],\n",
    "       [1,0,1],\n",
    "       [1,1,1]]\n",
    "\n",
    "def distanceML(x1, x2):\n",
    "    result = 0\n",
    "    minDis = 99\n",
    "    for row in data:\n",
    "        X = row[0:2]  \n",
    "        y = row[2]  \n",
    "        dis = abs(x1-X[0]) + abs(x2-X[1])\n",
    "        \n",
    "        if minDis > dis :\n",
    "            minDis = dis  \n",
    "            result = y\n",
    "\n",
    "    return result\n",
    "            \n",
    "print(distanceML(0, 0))    \n",
    "print(distanceML(1, 0))\n",
    "print(distanceML(0, 1))\n",
    "print(distanceML(1, 1))"
   ]
  },
  {
   "cell_type": "code",
   "execution_count": 24,
   "id": "87f7abd8",
   "metadata": {},
   "outputs": [
    {
     "name": "stdout",
     "output_type": "stream",
     "text": [
      "0\n",
      "1\n",
      "1\n",
      "0\n"
     ]
    }
   ],
   "source": [
    "#XOR 논리 선언\n",
    "data = [[0,0,0],\n",
    "       [0,1,1],\n",
    "       [1,0,1],\n",
    "       [1,1,0]]\n",
    "\n",
    "\n",
    "def distanceML(x1, x2):\n",
    "    result = 0\n",
    "    minDis = 99\n",
    "\n",
    "    for row in data:\n",
    "        X = row[0:2]  \n",
    "        y = row[2]  \n",
    "        dis = abs(x1-X[0]) + abs(x2-X[1])\n",
    "        \n",
    "        if minDis > dis :\n",
    "            minDis = dis  \n",
    "            result = y\n",
    "\n",
    "    return result\n",
    "            \n",
    "print(distanceML(0, 0))    \n",
    "print(distanceML(1, 0))\n",
    "print(distanceML(0, 1))\n",
    "print(distanceML(1, 1))"
   ]
  },
  {
   "cell_type": "markdown",
   "id": "12c2d944",
   "metadata": {},
   "source": [
    "- 몸무게 "
   ]
  },
  {
   "cell_type": "code",
   "execution_count": 32,
   "id": "600b8a51",
   "metadata": {},
   "outputs": [
    {
     "data": {
      "text/plain": [
       "'정상'"
      ]
     },
     "execution_count": 32,
     "metadata": {},
     "output_type": "execute_result"
    }
   ],
   "source": [
    "data2 = [[150, 40, \"저체중\"],\n",
    "        [200, 100, \"비만\"],\n",
    "        [180, 150, \"비만\"],\n",
    "        [160, 40, \"저체중\"],\n",
    "        [170, 70, \"정상\"]]\n",
    "\n",
    "def distanceML(x1, x2):\n",
    "    result = 0\n",
    "    minDis = 99\n",
    "\n",
    "    for row in data2:\n",
    "        X = row[0:2]  \n",
    "        y = row[2]  \n",
    "        dis = abs(x1-X[0]) + abs(x2-X[1])\n",
    "        \n",
    "        if minDis > dis :\n",
    "            minDis = dis  \n",
    "            result = y\n",
    "            #거리 기반 방법에서는 특성 데이터들의 가중치를 고려하지 않으면 정확한 값이 나오지 않는다.\n",
    "\n",
    "    return result\n",
    "\n",
    "distanceML(170,55)"
   ]
  },
  {
   "cell_type": "markdown",
   "id": "48823144",
   "metadata": {},
   "source": [
    "## 수식 기반 학습으로 AND 논리를 학습하는 모델을 만들자\n",
    "- Lienar, Regression(선형회귀), Rideg, Lasso\n",
    "- Logistic Regression\n",
    "- (확률 모델을 사용하기도 한다... 근데 어려움)"
   ]
  },
  {
   "cell_type": "code",
   "execution_count": 50,
   "id": "4ebe5b37",
   "metadata": {
    "scrolled": true
   },
   "outputs": [
    {
     "name": "stdout",
     "output_type": "stream",
     "text": [
      "0\n",
      "0\n",
      "0\n",
      "1\n"
     ]
    }
   ],
   "source": [
    "#AND 논리 선언\n",
    "data = [[0,0,0],\n",
    "       [0,1,0],\n",
    "       [1,0,0],\n",
    "       [1,1,1]]\n",
    "\n",
    "    # y=ax + b 1차 함수의 기울기는 수식기반 학습에서 가중치로 작용한다.\n",
    "    # 와이 절편은 바이어싱 해준다 --> 0부터 시작하는게 아니라 y절편만큼 이동한 거리에서 시작한다.\n",
    "    #AND = W1*A + W2*B +b \n",
    "\n",
    "def andML(x1,x2):\n",
    "    w1, w2, b = 0.5, 0.5, 0   #여러분이 직접 맞춰보세요  (-1,0과 1.0 사이 값을 넣어서 )\n",
    "    \n",
    "    #AND 논리를 만드는 수식\n",
    "    temp = (w1*x1) + (w2*x2) + b\n",
    "\n",
    "    if temp <= 0.5:\n",
    "        return 0\n",
    "    else:\n",
    "        return 1\n",
    "    \n",
    "print(andML(0,0))\n",
    "print(andML(0,1))\n",
    "print(andML(1,0))\n",
    "print(andML(1,1))"
   ]
  },
  {
   "cell_type": "markdown",
   "id": "a521a7d6",
   "metadata": {},
   "source": [
    "## 논리 기반 학습으로 AND 논리를 학습하는 모델을 만들자\n",
    "- Decision Tree (의사결정)"
   ]
  },
  {
   "cell_type": "code",
   "execution_count": 57,
   "id": "f1da5f4f",
   "metadata": {},
   "outputs": [
    {
     "name": "stdout",
     "output_type": "stream",
     "text": [
      "0\n",
      "0\n",
      "0\n",
      "1\n"
     ]
    }
   ],
   "source": [
    "#AND 논리 선언\n",
    "data = [[0,0,0],\n",
    "       [0,1,0],\n",
    "       [1,0,0],\n",
    "       [1,1,1]]\n",
    "\n",
    "def logicalML(x1, x2):\n",
    "    if x1 == 0 and x2 == 0 :\n",
    "        return 0\n",
    "    if x1 == 1 and x2 == 0 :\n",
    "        return 0\n",
    "    if x1 == 0 and x2 == 1 :\n",
    "        return 0\n",
    "    if x1 == 1 and x2 == 1 :\n",
    "        return 1\n",
    "    \n",
    "    #나중에 사용하게 될 머신러닝 모델들이 거리, 가중치, 조건문을 자동으로 만들어준다.\n",
    "    \n",
    "print(logicalML(0,0))\n",
    "print(logicalML(0,1))\n",
    "print(logicalML(1,0))\n",
    "print(logicalML(1,1))"
   ]
  },
  {
   "cell_type": "markdown",
   "id": "53aefcd2",
   "metadata": {},
   "source": [
    "## 앙상블(Ensemble)\n",
    "- Random Forest, Adaboost, GBM, Xgboost, LightGBM 등등\n",
    "- 여러개의 모델을 사용해서 투표 하거나 확률을 계산하는 방식 : voting, stacking\n",
    "- 데이터를 쪼개서 적용하는 방식 : bagging, boosting\n",
    "    - (데이터가 적은 경우 적은 것 중에서 랜덤하게 뽑아서 여러개 학습시켜서 비교) like 집단지성 "
   ]
  },
  {
   "cell_type": "code",
   "execution_count": 4,
   "id": "97aad9b8",
   "metadata": {},
   "outputs": [],
   "source": [
    "\n"
   ]
  },
  {
   "cell_type": "markdown",
   "id": "bda78a3c",
   "metadata": {},
   "source": [
    "# Scikit-learn 프레임워크를 활용한 학습\n",
    "\n",
    "- Scikit-learn 프레임 워크 : 머신러닝과 관련된 데이터, 모델, 함수 등을 다양하게 제공하는 가장 많이 활용되는 머신러닝 프레임워크"
   ]
  },
  {
   "cell_type": "code",
   "execution_count": 61,
   "id": "ed4645a0",
   "metadata": {},
   "outputs": [
    {
     "data": {
      "text/html": [
       "<div>\n",
       "<style scoped>\n",
       "    .dataframe tbody tr th:only-of-type {\n",
       "        vertical-align: middle;\n",
       "    }\n",
       "\n",
       "    .dataframe tbody tr th {\n",
       "        vertical-align: top;\n",
       "    }\n",
       "\n",
       "    .dataframe thead th {\n",
       "        text-align: right;\n",
       "    }\n",
       "</style>\n",
       "<table border=\"1\" class=\"dataframe\">\n",
       "  <thead>\n",
       "    <tr style=\"text-align: right;\">\n",
       "      <th></th>\n",
       "      <th>A</th>\n",
       "      <th>B</th>\n",
       "      <th>AND</th>\n",
       "    </tr>\n",
       "  </thead>\n",
       "  <tbody>\n",
       "    <tr>\n",
       "      <th>0</th>\n",
       "      <td>0</td>\n",
       "      <td>0</td>\n",
       "      <td>0</td>\n",
       "    </tr>\n",
       "    <tr>\n",
       "      <th>1</th>\n",
       "      <td>0</td>\n",
       "      <td>1</td>\n",
       "      <td>0</td>\n",
       "    </tr>\n",
       "    <tr>\n",
       "      <th>2</th>\n",
       "      <td>1</td>\n",
       "      <td>0</td>\n",
       "      <td>0</td>\n",
       "    </tr>\n",
       "    <tr>\n",
       "      <th>3</th>\n",
       "      <td>1</td>\n",
       "      <td>1</td>\n",
       "      <td>1</td>\n",
       "    </tr>\n",
       "  </tbody>\n",
       "</table>\n",
       "</div>"
      ],
      "text/plain": [
       "   A  B  AND\n",
       "0  0  0    0\n",
       "1  0  1    0\n",
       "2  1  0    0\n",
       "3  1  1    1"
      ]
     },
     "execution_count": 61,
     "metadata": {},
     "output_type": "execute_result"
    }
   ],
   "source": [
    "#AND 논리 선언\n",
    "data = [[0,0,0],\n",
    "       [0,1,0],\n",
    "       [1,0,0],\n",
    "       [1,1,1]]\n",
    "\n",
    "# pandas 데이터로 변환\n",
    "import pandas as pd\n",
    "dfAnd = pd.DataFrame(data, columns=[\"A\", \"B\", \"AND\"])\n",
    "dfAnd"
   ]
  },
  {
   "cell_type": "code",
   "execution_count": 62,
   "id": "4846aae2",
   "metadata": {},
   "outputs": [
    {
     "data": {
      "text/html": [
       "<div>\n",
       "<style scoped>\n",
       "    .dataframe tbody tr th:only-of-type {\n",
       "        vertical-align: middle;\n",
       "    }\n",
       "\n",
       "    .dataframe tbody tr th {\n",
       "        vertical-align: top;\n",
       "    }\n",
       "\n",
       "    .dataframe thead th {\n",
       "        text-align: right;\n",
       "    }\n",
       "</style>\n",
       "<table border=\"1\" class=\"dataframe\">\n",
       "  <thead>\n",
       "    <tr style=\"text-align: right;\">\n",
       "      <th></th>\n",
       "      <th>A</th>\n",
       "      <th>B</th>\n",
       "    </tr>\n",
       "  </thead>\n",
       "  <tbody>\n",
       "    <tr>\n",
       "      <th>0</th>\n",
       "      <td>0</td>\n",
       "      <td>0</td>\n",
       "    </tr>\n",
       "    <tr>\n",
       "      <th>1</th>\n",
       "      <td>0</td>\n",
       "      <td>1</td>\n",
       "    </tr>\n",
       "    <tr>\n",
       "      <th>2</th>\n",
       "      <td>1</td>\n",
       "      <td>0</td>\n",
       "    </tr>\n",
       "    <tr>\n",
       "      <th>3</th>\n",
       "      <td>1</td>\n",
       "      <td>1</td>\n",
       "    </tr>\n",
       "  </tbody>\n",
       "</table>\n",
       "</div>"
      ],
      "text/plain": [
       "   A  B\n",
       "0  0  0\n",
       "1  0  1\n",
       "2  1  0\n",
       "3  1  1"
      ]
     },
     "execution_count": 62,
     "metadata": {},
     "output_type": "execute_result"
    }
   ],
   "source": [
    "#특성데이터와 라벨데이터로 분리\n",
    "X = dfAnd.iloc[:, :2]\n",
    "X"
   ]
  },
  {
   "cell_type": "code",
   "execution_count": 63,
   "id": "0c426d3f",
   "metadata": {},
   "outputs": [
    {
     "data": {
      "text/plain": [
       "0    0\n",
       "1    0\n",
       "2    0\n",
       "3    1\n",
       "Name: AND, dtype: int64"
      ]
     },
     "execution_count": 63,
     "metadata": {},
     "output_type": "execute_result"
    }
   ],
   "source": [
    "y = dfAnd.iloc[:, 2]   #인덱싱하면 시리즈 데이터로 잘림 (가능하면 인덱싱으로 잘라내야한다!!!)\n",
    "y1 = dfAnd.iloc[:, 2:]   # 슬라이싱으로 자르면 데이터프레임으로 잘림 두개 섞어서 쓰면 오류남 시리즈는(4,0) 데이터프레임은 (4,1)\n",
    "y"
   ]
  },
  {
   "cell_type": "code",
   "execution_count": 64,
   "id": "960e8868",
   "metadata": {
    "scrolled": false
   },
   "outputs": [
    {
     "data": {
      "text/html": [
       "<div>\n",
       "<style scoped>\n",
       "    .dataframe tbody tr th:only-of-type {\n",
       "        vertical-align: middle;\n",
       "    }\n",
       "\n",
       "    .dataframe tbody tr th {\n",
       "        vertical-align: top;\n",
       "    }\n",
       "\n",
       "    .dataframe thead th {\n",
       "        text-align: right;\n",
       "    }\n",
       "</style>\n",
       "<table border=\"1\" class=\"dataframe\">\n",
       "  <thead>\n",
       "    <tr style=\"text-align: right;\">\n",
       "      <th></th>\n",
       "      <th>AND</th>\n",
       "    </tr>\n",
       "  </thead>\n",
       "  <tbody>\n",
       "    <tr>\n",
       "      <th>0</th>\n",
       "      <td>0</td>\n",
       "    </tr>\n",
       "    <tr>\n",
       "      <th>1</th>\n",
       "      <td>0</td>\n",
       "    </tr>\n",
       "    <tr>\n",
       "      <th>2</th>\n",
       "      <td>0</td>\n",
       "    </tr>\n",
       "    <tr>\n",
       "      <th>3</th>\n",
       "      <td>1</td>\n",
       "    </tr>\n",
       "  </tbody>\n",
       "</table>\n",
       "</div>"
      ],
      "text/plain": [
       "   AND\n",
       "0    0\n",
       "1    0\n",
       "2    0\n",
       "3    1"
      ]
     },
     "execution_count": 64,
     "metadata": {},
     "output_type": "execute_result"
    }
   ],
   "source": [
    " y1"
   ]
  },
  {
   "cell_type": "code",
   "execution_count": 65,
   "id": "26f30721",
   "metadata": {},
   "outputs": [
    {
     "data": {
      "text/plain": [
       "KNeighborsClassifier(n_neighbors=1)"
      ]
     },
     "execution_count": 65,
     "metadata": {},
     "output_type": "execute_result"
    }
   ],
   "source": [
    "#KNN 분류 모델을 로드\n",
    "from sklearn.neighbors import KNeighborsClassifier\n",
    "\n",
    "# 모델 선언\n",
    "#n_neighbors : 가까이에 있는 참고하는 데이터의 수 \n",
    "knn_model = KNeighborsClassifier(n_neighbors=1)\n",
    "\n",
    "#특성 데이터와 라벨 데이터를 입력해서 훈련\n",
    "knn_model.fit(X,y)"
   ]
  },
  {
   "cell_type": "code",
   "execution_count": 66,
   "id": "78d435b9",
   "metadata": {},
   "outputs": [
    {
     "name": "stderr",
     "output_type": "stream",
     "text": [
      "C:\\Users\\AI\\Anaconda3\\lib\\site-packages\\sklearn\\base.py:450: UserWarning: X does not have valid feature names, but KNeighborsClassifier was fitted with feature names\n",
      "  warnings.warn(\n"
     ]
    },
    {
     "data": {
      "text/plain": [
       "array([1, 0, 0, 0], dtype=int64)"
      ]
     },
     "execution_count": 66,
     "metadata": {},
     "output_type": "execute_result"
    }
   ],
   "source": [
    "#새로운 데이터를 입력해서 예측\n",
    "new_F = [[1,1], [0,1], [1,0], [0,0]]  # 데이터 프레임으로 위에서 학습했는데 리스트로 넣어서 에러뜸\n",
    "new_y = [1, 0, 0, 0]   # 위에서 슬라이싱으로 했으면 reshape 함수로 열을 추가해줘야한다.\n",
    "\n",
    "#predict() : 생성된 모델을 이용해서 새로운 특성데이터의 라벨데이터를 예측\n",
    "pred_y = knn_model.predict(new_X)\n",
    "pred_y"
   ]
  },
  {
   "cell_type": "code",
   "execution_count": 70,
   "id": "2c7bc1c8",
   "metadata": {},
   "outputs": [
    {
     "name": "stdout",
     "output_type": "stream",
     "text": [
      "1.0\n",
      "1.0\n"
     ]
    }
   ],
   "source": [
    "# 평가(score, accuracy_score) - 정확도 구하는 함수\n",
    "# score(): 훈련하고 나서 특성데이터와 라벨데이터로 정확도를 계산   <- 기본 함수로 포함하고 있음\n",
    "# accuracy_score(): 예측한 라벨과 원래 라벨을 비교하여 정확도를 계산  <- 도함수를 임포트 해줘야함 \n",
    "print(knn_model.score(X,y))\n",
    "\n",
    "from sklearn.metrics import accuracy_score\n",
    "print(accuracy_score(pred_y, new_y))\n",
    "\n",
    "# 머신러닝에서는 정확도 100%가 나오면 과대적합일 확률이 높다"
   ]
  },
  {
   "cell_type": "code",
   "execution_count": null,
   "id": "695a1a9e",
   "metadata": {},
   "outputs": [],
   "source": []
  },
  {
   "cell_type": "code",
   "execution_count": null,
   "id": "2775ba8a",
   "metadata": {},
   "outputs": [],
   "source": []
  },
  {
   "cell_type": "code",
   "execution_count": null,
   "id": "30f7d30d",
   "metadata": {},
   "outputs": [],
   "source": []
  },
  {
   "cell_type": "code",
   "execution_count": null,
   "id": "7be11ba6",
   "metadata": {},
   "outputs": [],
   "source": []
  },
  {
   "cell_type": "code",
   "execution_count": null,
   "id": "a865758b",
   "metadata": {},
   "outputs": [],
   "source": []
  },
  {
   "cell_type": "code",
   "execution_count": null,
   "id": "4ee1dfd8",
   "metadata": {},
   "outputs": [],
   "source": []
  },
  {
   "cell_type": "code",
   "execution_count": null,
   "id": "a0c27a59",
   "metadata": {},
   "outputs": [],
   "source": []
  },
  {
   "cell_type": "code",
   "execution_count": null,
   "id": "9a93fc52",
   "metadata": {},
   "outputs": [],
   "source": []
  },
  {
   "cell_type": "code",
   "execution_count": null,
   "id": "e0259c71",
   "metadata": {},
   "outputs": [],
   "source": []
  },
  {
   "cell_type": "code",
   "execution_count": null,
   "id": "1755a7db",
   "metadata": {},
   "outputs": [],
   "source": []
  },
  {
   "cell_type": "code",
   "execution_count": null,
   "id": "d560b98f",
   "metadata": {},
   "outputs": [],
   "source": []
  },
  {
   "cell_type": "code",
   "execution_count": null,
   "id": "64cabf5e",
   "metadata": {},
   "outputs": [],
   "source": []
  },
  {
   "cell_type": "code",
   "execution_count": null,
   "id": "6939b42e",
   "metadata": {},
   "outputs": [],
   "source": []
  },
  {
   "cell_type": "code",
   "execution_count": null,
   "id": "1744d8e0",
   "metadata": {},
   "outputs": [],
   "source": []
  },
  {
   "cell_type": "code",
   "execution_count": null,
   "id": "75c740be",
   "metadata": {},
   "outputs": [],
   "source": []
  },
  {
   "cell_type": "code",
   "execution_count": null,
   "id": "90d7b4ee",
   "metadata": {},
   "outputs": [],
   "source": []
  },
  {
   "cell_type": "code",
   "execution_count": null,
   "id": "c9e7abb9",
   "metadata": {},
   "outputs": [],
   "source": []
  },
  {
   "cell_type": "code",
   "execution_count": null,
   "id": "abb056cd",
   "metadata": {},
   "outputs": [],
   "source": []
  },
  {
   "cell_type": "code",
   "execution_count": null,
   "id": "cc7ac8ec",
   "metadata": {},
   "outputs": [],
   "source": []
  },
  {
   "cell_type": "code",
   "execution_count": null,
   "id": "c8d517a5",
   "metadata": {},
   "outputs": [],
   "source": []
  },
  {
   "cell_type": "code",
   "execution_count": null,
   "id": "fc02e494",
   "metadata": {},
   "outputs": [],
   "source": []
  },
  {
   "cell_type": "code",
   "execution_count": null,
   "id": "b7ea1d4a",
   "metadata": {},
   "outputs": [],
   "source": []
  },
  {
   "cell_type": "code",
   "execution_count": null,
   "id": "0dd47189",
   "metadata": {},
   "outputs": [],
   "source": []
  },
  {
   "cell_type": "code",
   "execution_count": null,
   "id": "036a79d1",
   "metadata": {},
   "outputs": [],
   "source": []
  },
  {
   "cell_type": "code",
   "execution_count": null,
   "id": "159ef51b",
   "metadata": {},
   "outputs": [],
   "source": []
  },
  {
   "cell_type": "code",
   "execution_count": null,
   "id": "d60906fe",
   "metadata": {},
   "outputs": [],
   "source": []
  },
  {
   "cell_type": "code",
   "execution_count": null,
   "id": "be6d213f",
   "metadata": {},
   "outputs": [],
   "source": []
  },
  {
   "cell_type": "code",
   "execution_count": null,
   "id": "d7515a2d",
   "metadata": {},
   "outputs": [],
   "source": []
  },
  {
   "cell_type": "code",
   "execution_count": null,
   "id": "8ea48809",
   "metadata": {},
   "outputs": [],
   "source": []
  },
  {
   "cell_type": "code",
   "execution_count": null,
   "id": "ff077a90",
   "metadata": {},
   "outputs": [],
   "source": []
  },
  {
   "cell_type": "code",
   "execution_count": null,
   "id": "1dc68aab",
   "metadata": {},
   "outputs": [],
   "source": []
  },
  {
   "cell_type": "code",
   "execution_count": null,
   "id": "370580f1",
   "metadata": {},
   "outputs": [],
   "source": []
  },
  {
   "cell_type": "code",
   "execution_count": null,
   "id": "aed0efe6",
   "metadata": {},
   "outputs": [],
   "source": []
  },
  {
   "cell_type": "code",
   "execution_count": null,
   "id": "07abe208",
   "metadata": {},
   "outputs": [],
   "source": []
  },
  {
   "cell_type": "code",
   "execution_count": null,
   "id": "1d259c52",
   "metadata": {},
   "outputs": [],
   "source": []
  },
  {
   "cell_type": "code",
   "execution_count": null,
   "id": "ba4b8ce6",
   "metadata": {},
   "outputs": [],
   "source": []
  },
  {
   "cell_type": "code",
   "execution_count": null,
   "id": "06920a18",
   "metadata": {},
   "outputs": [],
   "source": []
  },
  {
   "cell_type": "code",
   "execution_count": null,
   "id": "88c80d4a",
   "metadata": {},
   "outputs": [],
   "source": []
  },
  {
   "cell_type": "code",
   "execution_count": null,
   "id": "9c325bb8",
   "metadata": {},
   "outputs": [],
   "source": []
  },
  {
   "cell_type": "code",
   "execution_count": null,
   "id": "3e5b560a",
   "metadata": {},
   "outputs": [],
   "source": []
  },
  {
   "cell_type": "code",
   "execution_count": null,
   "id": "6d12e654",
   "metadata": {},
   "outputs": [],
   "source": []
  },
  {
   "cell_type": "code",
   "execution_count": null,
   "id": "77f87d35",
   "metadata": {},
   "outputs": [],
   "source": []
  },
  {
   "cell_type": "code",
   "execution_count": null,
   "id": "df355df4",
   "metadata": {},
   "outputs": [],
   "source": []
  },
  {
   "cell_type": "code",
   "execution_count": null,
   "id": "176db58a",
   "metadata": {},
   "outputs": [],
   "source": []
  },
  {
   "cell_type": "code",
   "execution_count": null,
   "id": "9de8929f",
   "metadata": {},
   "outputs": [],
   "source": []
  },
  {
   "cell_type": "code",
   "execution_count": null,
   "id": "c6fff3fc",
   "metadata": {},
   "outputs": [],
   "source": []
  },
  {
   "cell_type": "code",
   "execution_count": null,
   "id": "ce6d7372",
   "metadata": {},
   "outputs": [],
   "source": []
  },
  {
   "cell_type": "code",
   "execution_count": null,
   "id": "dbbced94",
   "metadata": {},
   "outputs": [],
   "source": []
  },
  {
   "cell_type": "code",
   "execution_count": null,
   "id": "e2a1b327",
   "metadata": {},
   "outputs": [],
   "source": []
  },
  {
   "cell_type": "code",
   "execution_count": null,
   "id": "c44359ae",
   "metadata": {},
   "outputs": [],
   "source": []
  },
  {
   "cell_type": "code",
   "execution_count": null,
   "id": "0633335a",
   "metadata": {},
   "outputs": [],
   "source": []
  },
  {
   "cell_type": "code",
   "execution_count": null,
   "id": "6e1f0957",
   "metadata": {},
   "outputs": [],
   "source": []
  },
  {
   "cell_type": "code",
   "execution_count": null,
   "id": "8681b7f3",
   "metadata": {},
   "outputs": [],
   "source": []
  },
  {
   "cell_type": "code",
   "execution_count": null,
   "id": "ae31b950",
   "metadata": {},
   "outputs": [],
   "source": []
  },
  {
   "cell_type": "code",
   "execution_count": null,
   "id": "a2f9538d",
   "metadata": {},
   "outputs": [],
   "source": []
  },
  {
   "cell_type": "code",
   "execution_count": null,
   "id": "0135b0c2",
   "metadata": {},
   "outputs": [],
   "source": []
  },
  {
   "cell_type": "code",
   "execution_count": null,
   "id": "a90a3135",
   "metadata": {},
   "outputs": [],
   "source": []
  },
  {
   "cell_type": "code",
   "execution_count": null,
   "id": "297ab990",
   "metadata": {},
   "outputs": [],
   "source": []
  },
  {
   "cell_type": "code",
   "execution_count": null,
   "id": "60e70623",
   "metadata": {},
   "outputs": [],
   "source": []
  },
  {
   "cell_type": "code",
   "execution_count": null,
   "id": "8977590e",
   "metadata": {},
   "outputs": [],
   "source": []
  },
  {
   "cell_type": "code",
   "execution_count": null,
   "id": "14c04938",
   "metadata": {},
   "outputs": [],
   "source": []
  },
  {
   "cell_type": "code",
   "execution_count": null,
   "id": "d8a0c0c4",
   "metadata": {},
   "outputs": [],
   "source": []
  },
  {
   "cell_type": "code",
   "execution_count": null,
   "id": "75bb53b9",
   "metadata": {},
   "outputs": [],
   "source": []
  },
  {
   "cell_type": "code",
   "execution_count": null,
   "id": "13ed1753",
   "metadata": {},
   "outputs": [],
   "source": []
  },
  {
   "cell_type": "code",
   "execution_count": null,
   "id": "1b6b28e2",
   "metadata": {},
   "outputs": [],
   "source": []
  },
  {
   "cell_type": "code",
   "execution_count": null,
   "id": "ac35cca1",
   "metadata": {},
   "outputs": [],
   "source": []
  },
  {
   "cell_type": "code",
   "execution_count": null,
   "id": "726de711",
   "metadata": {},
   "outputs": [],
   "source": []
  },
  {
   "cell_type": "code",
   "execution_count": null,
   "id": "02d5154e",
   "metadata": {},
   "outputs": [],
   "source": []
  },
  {
   "cell_type": "code",
   "execution_count": null,
   "id": "385751f0",
   "metadata": {},
   "outputs": [],
   "source": []
  },
  {
   "cell_type": "code",
   "execution_count": null,
   "id": "431ae32e",
   "metadata": {},
   "outputs": [],
   "source": []
  },
  {
   "cell_type": "code",
   "execution_count": null,
   "id": "261925c1",
   "metadata": {},
   "outputs": [],
   "source": []
  }
 ],
 "metadata": {
  "kernelspec": {
   "display_name": "Python 3 (ipykernel)",
   "language": "python",
   "name": "python3"
  },
  "language_info": {
   "codemirror_mode": {
    "name": "ipython",
    "version": 3
   },
   "file_extension": ".py",
   "mimetype": "text/x-python",
   "name": "python",
   "nbconvert_exporter": "python",
   "pygments_lexer": "ipython3",
   "version": "3.9.12"
  },
  "toc": {
   "base_numbering": 1,
   "nav_menu": {},
   "number_sections": true,
   "sideBar": true,
   "skip_h1_title": false,
   "title_cell": "Table of Contents",
   "title_sidebar": "Contents",
   "toc_cell": false,
   "toc_position": {
    "height": "calc(100% - 180px)",
    "left": "10px",
    "top": "150px",
    "width": "349.091px"
   },
   "toc_section_display": true,
   "toc_window_display": true
  }
 },
 "nbformat": 4,
 "nbformat_minor": 5
}
